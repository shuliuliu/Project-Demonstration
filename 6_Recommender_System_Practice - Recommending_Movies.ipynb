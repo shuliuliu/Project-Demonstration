{
 "cells": [
  {
   "cell_type": "markdown",
   "execution_count": null,
   "metadata": {
    "papermill": {
     "duration": 0.020154,
     "end_time": "2020-08-15T23:13:23.183907",
     "exception": false,
     "start_time": "2020-08-15T23:13:23.163753",
     "status": "completed"
    },
    "tags": []
   },
   "source": [
    "# Project Description\n",
    "\n",
    "This is a practice project where I will try to learn some information filtering techniques. In this project, I will attempt at implementing various recommendation algorithms (popularity based, content based, and collaborative filtering) and try to build an ensemble of these models to come up with the final recommendation system. The data source I use provided two sets of data:\n",
    "\n",
    "* The Full Dataset: Consists of 26,000,000 ratings and 750,000 tag applications applied to 45,000 movies by 270,000 users. Includes tag genome data with 12 million relevance scores across 1,100 tags.\n",
    "* The Small Dataset: Comprises of 100,000 ratings and 1,300 tag applications applied to 9,000 movies by 700 users.\n",
    "\n",
    "I will be using the small dataset due to limiting computing power available to me. Also I will be loading data as needed, as different methods will be utilizing different data fields from different files."
   ]
  },
  {
   "cell_type": "markdown",
   "execution_count": null,
   "metadata": {
    "papermill": {
     "duration": 0.015303,
     "end_time": "2020-08-15T23:13:23.220352",
     "exception": false,
     "start_time": "2020-08-15T23:13:23.205049",
     "status": "completed"
    },
    "tags": []
   },
   "source": [
    "# Project Pipeline\n",
    "\n",
    "1. IMDb score method: This method offers generalized recommendations to every user, based on movie popularity.\n",
    "2. Correlation matrix method: This method also offers generalized recommendations, but based on correlation matrix of user ratings.\n",
    "3. Content based filtering method: This method suggests similar items based on a particular item.\n",
    "4. Collaborative filtering method: This method is based on assumption that people like things similar to other things they like, and things that are liked by other people with similar taste.\n",
    "5. Hybrid recommender: This approach is to combine collaborative filtering and content-based filtering\n",
    "6. Summarize"
   ]
  },
  {
   "cell_type": "code",
   "execution_count": 1,
   "metadata": {
    "execution": {
     "iopub.execute_input": "2020-08-15T23:13:23.261022Z",
     "iopub.status.busy": "2020-08-15T23:13:23.260111Z",
     "iopub.status.idle": "2020-08-15T23:13:24.533710Z",
     "shell.execute_reply": "2020-08-15T23:13:24.532751Z"
    },
    "papermill": {
     "duration": 1.298754,
     "end_time": "2020-08-15T23:13:24.533882",
     "exception": false,
     "start_time": "2020-08-15T23:13:23.235128",
     "status": "completed"
    },
    "tags": []
   },
   "outputs": [],
   "source": [
    "import numpy as np\n",
    "import pandas as pd\n",
    "import matplotlib.pyplot as plt\n",
    "import seaborn as sns\n",
    "sns.set_style('white')"
   ]
  },
  {
   "cell_type": "markdown",
   "execution_count": null,
   "metadata": {
    "papermill": {
     "duration": 0.014428,
     "end_time": "2020-08-15T23:13:24.564189",
     "exception": false,
     "start_time": "2020-08-15T23:13:24.549761",
     "status": "completed"
    },
    "tags": []
   },
   "source": [
    "# Part I: IMDb Score Method\n",
    "\n",
    "This method offers generalized recommendations to every user, based on movie popularity and/or genre. The basic idea behind this system is that movies that are more popular and critically acclaimed will have a higher probability of being liked by the average audience. We just need a metric to score or rate every movie. In this case I will use the formula provided by MDB: [How do you calculate the rank of movies and TV shows on the Top Rated Movies and Top Rated TV Show lists?](https://help.imdb.com/article/imdb/track-movies-tv/ratings-faq/G67Y87TFYYP6TWAV#calculatetop)"
   ]
  },
  {
   "cell_type": "code",
   "execution_count": 2,
   "metadata": {
    "execution": {
     "iopub.execute_input": "2020-08-15T23:13:24.608035Z",
     "iopub.status.busy": "2020-08-15T23:13:24.607198Z",
     "iopub.status.idle": "2020-08-15T23:13:25.689248Z",
     "shell.execute_reply": "2020-08-15T23:13:25.688404Z"
    },
    "papermill": {
     "duration": 1.109742,
     "end_time": "2020-08-15T23:13:25.689389",
     "exception": false,
     "start_time": "2020-08-15T23:13:24.579647",
     "status": "completed"
    },
    "tags": []
   },
   "outputs": [
    {
     "name": "stderr",
     "output_type": "stream",
     "text": [
      "/opt/conda/lib/python3.7/site-packages/IPython/core/interactiveshell.py:3063: DtypeWarning: Columns (10) have mixed types.Specify dtype option on import or set low_memory=False.\n",
      "  interactivity=interactivity, compiler=compiler, result=result)\n"
     ]
    }
   ],
   "source": [
    "movie_info = pd.read_csv('../input/the-movies-dataset/movies_metadata.csv')\n",
    "\n",
    "# get rid of abnormal 'id' values in movie_info and convert 'id' to 'int' type\n",
    "movie_info = movie_info.drop([19730, 29503, 35587])\n",
    "movie_info['id'] = movie_info['id'].astype('int')\n",
    "movie_info['popularity'] = movie_info['popularity'].astype('float')"
   ]
  },
  {
   "cell_type": "markdown",
   "execution_count": null,
   "metadata": {
    "papermill": {
     "duration": 0.014464,
     "end_time": "2020-08-15T23:13:25.718766",
     "exception": false,
     "start_time": "2020-08-15T23:13:25.704302",
     "status": "completed"
    },
    "tags": []
   },
   "source": [
    "From IMBd website I learned the formula to score a movie is: \n",
    "\n",
    "**weighted rating (WR) = (v ÷ (v+m)) × R + (m ÷ (v+m)) × C**\n",
    "\n",
    "Where:\n",
    "* R = average for the movie (mean) = (rating)\n",
    "* v = number of votes for the movie = (votes)\n",
    "* m = minimum votes required to be listed in the Top Rated list\n",
    "* C = the mean vote across the whole report"
   ]
  },
  {
   "cell_type": "code",
   "execution_count": 3,
   "metadata": {
    "execution": {
     "iopub.execute_input": "2020-08-15T23:13:25.758087Z",
     "iopub.status.busy": "2020-08-15T23:13:25.756985Z",
     "iopub.status.idle": "2020-08-15T23:13:25.766750Z",
     "shell.execute_reply": "2020-08-15T23:13:25.767773Z"
    },
    "papermill": {
     "duration": 0.034296,
     "end_time": "2020-08-15T23:13:25.768070",
     "exception": false,
     "start_time": "2020-08-15T23:13:25.733774",
     "status": "completed"
    },
    "tags": []
   },
   "outputs": [],
   "source": [
    "# the mean rating for all the movies\n",
    "C = movie_info['vote_average'].mean() \n",
    "# the minimum votes required to be listed in the chart\n",
    "m = movie_info['vote_count'].quantile(0.9) "
   ]
  },
  {
   "cell_type": "code",
   "execution_count": 4,
   "metadata": {
    "execution": {
     "iopub.execute_input": "2020-08-15T23:13:25.812461Z",
     "iopub.status.busy": "2020-08-15T23:13:25.811351Z",
     "iopub.status.idle": "2020-08-15T23:13:25.817687Z",
     "shell.execute_reply": "2020-08-15T23:13:25.815848Z"
    },
    "papermill": {
     "duration": 0.032008,
     "end_time": "2020-08-15T23:13:25.817942",
     "exception": false,
     "start_time": "2020-08-15T23:13:25.785934",
     "status": "completed"
    },
    "tags": []
   },
   "outputs": [],
   "source": [
    "# calculate score metric for each qualified movie\n",
    "def weighted_rating(x,m=m,C=C): \n",
    "    v = x['vote_count']\n",
    "    R = x['vote_average']\n",
    "    return (v/(v+m) * R) + (m/(v+m) * C)"
   ]
  },
  {
   "cell_type": "code",
   "execution_count": 5,
   "metadata": {
    "execution": {
     "iopub.execute_input": "2020-08-15T23:13:25.858669Z",
     "iopub.status.busy": "2020-08-15T23:13:25.857847Z",
     "iopub.status.idle": "2020-08-15T23:13:26.034039Z",
     "shell.execute_reply": "2020-08-15T23:13:26.035471Z"
    },
    "papermill": {
     "duration": 0.201398,
     "end_time": "2020-08-15T23:13:26.035745",
     "exception": false,
     "start_time": "2020-08-15T23:13:25.834347",
     "status": "completed"
    },
    "tags": []
   },
   "outputs": [],
   "source": [
    "# filter out the movies that qualify for the chart\n",
    "quality_movies = movie_info.copy().loc[movie_info['vote_count']>=m] \n",
    "# calculate the movie score using above formula and add it as a new column to the data frame\n",
    "quality_movies['score'] = quality_movies.apply(weighted_rating,axis=1)\n",
    "#Sort movies based on score calculated above\n",
    "quality_movies = quality_movies.sort_values('score',ascending=False) "
   ]
  },
  {
   "cell_type": "code",
   "execution_count": 6,
   "metadata": {
    "execution": {
     "iopub.execute_input": "2020-08-15T23:13:26.092050Z",
     "iopub.status.busy": "2020-08-15T23:13:26.091149Z",
     "iopub.status.idle": "2020-08-15T23:13:26.106833Z",
     "shell.execute_reply": "2020-08-15T23:13:26.106040Z"
    },
    "papermill": {
     "duration": 0.053896,
     "end_time": "2020-08-15T23:13:26.106967",
     "exception": false,
     "start_time": "2020-08-15T23:13:26.053071",
     "status": "completed"
    },
    "tags": []
   },
   "outputs": [
    {
     "data": {
      "text/html": [
       "<div>\n",
       "<style scoped>\n",
       "    .dataframe tbody tr th:only-of-type {\n",
       "        vertical-align: middle;\n",
       "    }\n",
       "\n",
       "    .dataframe tbody tr th {\n",
       "        vertical-align: top;\n",
       "    }\n",
       "\n",
       "    .dataframe thead th {\n",
       "        text-align: right;\n",
       "    }\n",
       "</style>\n",
       "<table border=\"1\" class=\"dataframe\">\n",
       "  <thead>\n",
       "    <tr style=\"text-align: right;\">\n",
       "      <th></th>\n",
       "      <th>title</th>\n",
       "      <th>vote_count</th>\n",
       "      <th>vote_average</th>\n",
       "      <th>score</th>\n",
       "    </tr>\n",
       "  </thead>\n",
       "  <tbody>\n",
       "    <tr>\n",
       "      <th>314</th>\n",
       "      <td>The Shawshank Redemption</td>\n",
       "      <td>8358.0</td>\n",
       "      <td>8.5</td>\n",
       "      <td>8.445869</td>\n",
       "    </tr>\n",
       "    <tr>\n",
       "      <th>834</th>\n",
       "      <td>The Godfather</td>\n",
       "      <td>6024.0</td>\n",
       "      <td>8.5</td>\n",
       "      <td>8.425439</td>\n",
       "    </tr>\n",
       "    <tr>\n",
       "      <th>10309</th>\n",
       "      <td>Dilwale Dulhania Le Jayenge</td>\n",
       "      <td>661.0</td>\n",
       "      <td>9.1</td>\n",
       "      <td>8.421453</td>\n",
       "    </tr>\n",
       "    <tr>\n",
       "      <th>12481</th>\n",
       "      <td>The Dark Knight</td>\n",
       "      <td>12269.0</td>\n",
       "      <td>8.3</td>\n",
       "      <td>8.265477</td>\n",
       "    </tr>\n",
       "    <tr>\n",
       "      <th>2843</th>\n",
       "      <td>Fight Club</td>\n",
       "      <td>9678.0</td>\n",
       "      <td>8.3</td>\n",
       "      <td>8.256385</td>\n",
       "    </tr>\n",
       "    <tr>\n",
       "      <th>292</th>\n",
       "      <td>Pulp Fiction</td>\n",
       "      <td>8670.0</td>\n",
       "      <td>8.3</td>\n",
       "      <td>8.251406</td>\n",
       "    </tr>\n",
       "    <tr>\n",
       "      <th>522</th>\n",
       "      <td>Schindler's List</td>\n",
       "      <td>4436.0</td>\n",
       "      <td>8.3</td>\n",
       "      <td>8.206639</td>\n",
       "    </tr>\n",
       "    <tr>\n",
       "      <th>23673</th>\n",
       "      <td>Whiplash</td>\n",
       "      <td>4376.0</td>\n",
       "      <td>8.3</td>\n",
       "      <td>8.205404</td>\n",
       "    </tr>\n",
       "    <tr>\n",
       "      <th>5481</th>\n",
       "      <td>Spirited Away</td>\n",
       "      <td>3968.0</td>\n",
       "      <td>8.3</td>\n",
       "      <td>8.196055</td>\n",
       "    </tr>\n",
       "    <tr>\n",
       "      <th>2211</th>\n",
       "      <td>Life Is Beautiful</td>\n",
       "      <td>3643.0</td>\n",
       "      <td>8.3</td>\n",
       "      <td>8.187171</td>\n",
       "    </tr>\n",
       "    <tr>\n",
       "      <th>1178</th>\n",
       "      <td>The Godfather: Part II</td>\n",
       "      <td>3418.0</td>\n",
       "      <td>8.3</td>\n",
       "      <td>8.180076</td>\n",
       "    </tr>\n",
       "    <tr>\n",
       "      <th>1152</th>\n",
       "      <td>One Flew Over the Cuckoo's Nest</td>\n",
       "      <td>3001.0</td>\n",
       "      <td>8.3</td>\n",
       "      <td>8.164256</td>\n",
       "    </tr>\n",
       "    <tr>\n",
       "      <th>351</th>\n",
       "      <td>Forrest Gump</td>\n",
       "      <td>8147.0</td>\n",
       "      <td>8.2</td>\n",
       "      <td>8.150272</td>\n",
       "    </tr>\n",
       "    <tr>\n",
       "      <th>1154</th>\n",
       "      <td>The Empire Strikes Back</td>\n",
       "      <td>5998.0</td>\n",
       "      <td>8.2</td>\n",
       "      <td>8.132919</td>\n",
       "    </tr>\n",
       "    <tr>\n",
       "      <th>1176</th>\n",
       "      <td>Psycho</td>\n",
       "      <td>2405.0</td>\n",
       "      <td>8.3</td>\n",
       "      <td>8.132715</td>\n",
       "    </tr>\n",
       "  </tbody>\n",
       "</table>\n",
       "</div>"
      ],
      "text/plain": [
       "                                 title  vote_count  vote_average     score\n",
       "314           The Shawshank Redemption      8358.0           8.5  8.445869\n",
       "834                      The Godfather      6024.0           8.5  8.425439\n",
       "10309      Dilwale Dulhania Le Jayenge       661.0           9.1  8.421453\n",
       "12481                  The Dark Knight     12269.0           8.3  8.265477\n",
       "2843                        Fight Club      9678.0           8.3  8.256385\n",
       "292                       Pulp Fiction      8670.0           8.3  8.251406\n",
       "522                   Schindler's List      4436.0           8.3  8.206639\n",
       "23673                         Whiplash      4376.0           8.3  8.205404\n",
       "5481                     Spirited Away      3968.0           8.3  8.196055\n",
       "2211                 Life Is Beautiful      3643.0           8.3  8.187171\n",
       "1178            The Godfather: Part II      3418.0           8.3  8.180076\n",
       "1152   One Flew Over the Cuckoo's Nest      3001.0           8.3  8.164256\n",
       "351                       Forrest Gump      8147.0           8.2  8.150272\n",
       "1154           The Empire Strikes Back      5998.0           8.2  8.132919\n",
       "1176                            Psycho      2405.0           8.3  8.132715"
      ]
     },
     "execution_count": 6,
     "metadata": {},
     "output_type": "execute_result"
    }
   ],
   "source": [
    "top_15_quality_movie = quality_movies[['title','vote_count','vote_average','score']].head(15) \n",
    "top_15_quality_movie"
   ]
  },
  {
   "cell_type": "markdown",
   "execution_count": null,
   "metadata": {
    "papermill": {
     "duration": 0.016559,
     "end_time": "2020-08-15T23:13:26.138889",
     "exception": false,
     "start_time": "2020-08-15T23:13:26.122330",
     "status": "completed"
    },
    "tags": []
   },
   "source": [
    "Alternatively we can just utilize the column 'Popularity' provided in the dataset and draw the top 15 popular movies. Although 'Popularity' might just reflect movies that are currently trending and popular. A most recommended movie from the past might not show up as a currently popular movie."
   ]
  },
  {
   "cell_type": "code",
   "execution_count": 7,
   "metadata": {
    "execution": {
     "iopub.execute_input": "2020-08-15T23:13:26.181959Z",
     "iopub.status.busy": "2020-08-15T23:13:26.180911Z",
     "iopub.status.idle": "2020-08-15T23:13:26.727911Z",
     "shell.execute_reply": "2020-08-15T23:13:26.727093Z"
    },
    "papermill": {
     "duration": 0.572275,
     "end_time": "2020-08-15T23:13:26.728062",
     "exception": false,
     "start_time": "2020-08-15T23:13:26.155787",
     "status": "completed"
    },
    "tags": []
   },
   "outputs": [
    {
     "data": {
      "image/png": "[encoded data removed]",
      "text/plain": [
       "<Figure size 864x288 with 1 Axes>"
      ]
     },
     "metadata": {},
     "output_type": "display_data"
    }
   ],
   "source": [
    "top_15_popular_movie = movie_info.sort_values('popularity',ascending=False)[['title','vote_count','vote_average','popularity']].head(15)\n",
    "\n",
    "plt.figure(figsize=(12,4))\n",
    "sns.barplot(y=top_15_popular_movie['title'],x=top_15_popular_movie['popularity'],color='skyblue')\n",
    "#plt.gca().invert_yaxis()\n",
    "plt.xlabel('Popularity')\n",
    "plt.title('15 Most Popular Movies')\n",
    "plt.show()"
   ]
  },
  {
   "cell_type": "markdown",
   "execution_count": null,
   "metadata": {
    "papermill": {
     "duration": 0.016287,
     "end_time": "2020-08-15T23:13:26.761031",
     "exception": false,
     "start_time": "2020-08-15T23:13:26.744744",
     "status": "completed"
    },
    "tags": []
   },
   "source": [
    "# Part II: Correlation Matrix Method\n",
    "\n",
    "Popularity method works by recommeding movies watched and reviewed by most people and are rated high. It is not a personalized recommendation. In this case, I will alculate popularity of movies as how each of other movies is correlated to a certain movie based on each individual user's rating among all movies. "
   ]
  },
  {
   "cell_type": "code",
   "execution_count": 8,
   "metadata": {
    "execution": {
     "iopub.execute_input": "2020-08-15T23:13:26.803523Z",
     "iopub.status.busy": "2020-08-15T23:13:26.802707Z",
     "iopub.status.idle": "2020-08-15T23:13:26.888698Z",
     "shell.execute_reply": "2020-08-15T23:13:26.887932Z"
    },
    "papermill": {
     "duration": 0.111652,
     "end_time": "2020-08-15T23:13:26.888842",
     "exception": false,
     "start_time": "2020-08-15T23:13:26.777190",
     "status": "completed"
    },
    "tags": []
   },
   "outputs": [],
   "source": [
    "ratings = pd.read_csv('../input/the-movies-dataset/ratings_small.csv')\n",
    "id_links = pd.read_csv('../input/the-movies-dataset/links_small.csv')[['movieId','tmdbId']]\n",
    "\n",
    "id_links = id_links[id_links['tmdbId'].notnull()]\n",
    "id_links['tmdbId'] = id_links['tmdbId'].astype('int')"
   ]
  },
  {
   "cell_type": "code",
   "execution_count": 9,
   "metadata": {
    "execution": {
     "iopub.execute_input": "2020-08-15T23:13:26.930098Z",
     "iopub.status.busy": "2020-08-15T23:13:26.929198Z",
     "iopub.status.idle": "2020-08-15T23:13:26.957703Z",
     "shell.execute_reply": "2020-08-15T23:13:26.956764Z"
    },
    "papermill": {
     "duration": 0.051778,
     "end_time": "2020-08-15T23:13:26.957872",
     "exception": false,
     "start_time": "2020-08-15T23:13:26.906094",
     "status": "completed"
    },
    "tags": []
   },
   "outputs": [],
   "source": [
    "df = ratings.merge(id_links,on='movieId')\n",
    "df.columns = ['userId','movieId','rating','timestamp','id']"
   ]
  },
  {
   "cell_type": "code",
   "execution_count": 10,
   "metadata": {
    "execution": {
     "iopub.execute_input": "2020-08-15T23:13:27.001123Z",
     "iopub.status.busy": "2020-08-15T23:13:26.999674Z",
     "iopub.status.idle": "2020-08-15T23:13:27.050434Z",
     "shell.execute_reply": "2020-08-15T23:13:27.049710Z"
    },
    "papermill": {
     "duration": 0.076253,
     "end_time": "2020-08-15T23:13:27.050653",
     "exception": false,
     "start_time": "2020-08-15T23:13:26.974400",
     "status": "completed"
    },
    "tags": []
   },
   "outputs": [],
   "source": [
    "movie_info = movie_info[movie_info['id'].isin(df['id'])]\n",
    "df = df.merge(movie_info[['title','id']],on='id')"
   ]
  },
  {
   "cell_type": "code",
   "execution_count": 11,
   "metadata": {
    "execution": {
     "iopub.execute_input": "2020-08-15T23:13:27.109289Z",
     "iopub.status.busy": "2020-08-15T23:13:27.108212Z",
     "iopub.status.idle": "2020-08-15T23:13:27.197390Z",
     "shell.execute_reply": "2020-08-15T23:13:27.196376Z"
    },
    "papermill": {
     "duration": 0.127728,
     "end_time": "2020-08-15T23:13:27.197685",
     "exception": false,
     "start_time": "2020-08-15T23:13:27.069957",
     "status": "completed"
    },
    "tags": []
   },
   "outputs": [
    {
     "name": "stdout",
     "output_type": "stream",
     "text": [
      "Movies with highest average ratings:\n",
      " title\n",
      "The Last Brickmaker in America    5.0\n",
      "Neighboring Sounds                5.0\n",
      "Kids in America                   5.0\n",
      "I Think I Do                      5.0\n",
      "Miracle Mile                      5.0\n",
      "                                 ... \n",
      "Ring of Terror                    0.5\n",
      "Left Behind III: World at War     0.5\n",
      "Hells Angels on Wheels            0.5\n",
      "Roadgames                         0.5\n",
      "The Grudge 2                      0.5\n",
      "Name: rating, Length: 8754, dtype: float64\n",
      "\n",
      "\n",
      "Movies with the most ratings counts:\n",
      " title\n",
      "Forrest Gump                             341\n",
      "Pulp Fiction                             324\n",
      "The Shawshank Redemption                 311\n",
      "The Silence of the Lambs                 304\n",
      "Star Wars                                291\n",
      "                                        ... \n",
      "Sex Ed                                     1\n",
      "Sex and the City 2                         1\n",
      "Fashion Victims                            1\n",
      "Sgt. Pepper's Lonely Hearts Club Band      1\n",
      "My Tutor                                   1\n",
      "Name: rating, Length: 8754, dtype: int64\n"
     ]
    }
   ],
   "source": [
    "print('Movies with highest average ratings:\\n',df.groupby('title')['rating'].mean().sort_values(ascending=False))\n",
    "print('\\n\\nMovies with the most ratings counts:\\n',df.groupby('title')['rating'].count().sort_values(ascending=False))"
   ]
  },
  {
   "cell_type": "markdown",
   "execution_count": null,
   "metadata": {
    "papermill": {
     "duration": 0.022902,
     "end_time": "2020-08-15T23:13:27.243979",
     "exception": false,
     "start_time": "2020-08-15T23:13:27.221077",
     "status": "completed"
    },
    "tags": []
   },
   "source": [
    "From the above, you can see some movies with highest ratings end up with only one rating count. I will put these two indicators together and do a joint analysis."
   ]
  },
  {
   "cell_type": "code",
   "execution_count": 12,
   "metadata": {
    "execution": {
     "iopub.execute_input": "2020-08-15T23:13:27.294376Z",
     "iopub.status.busy": "2020-08-15T23:13:27.293443Z",
     "iopub.status.idle": "2020-08-15T23:13:27.370397Z",
     "shell.execute_reply": "2020-08-15T23:13:27.369590Z"
    },
    "papermill": {
     "duration": 0.105077,
     "end_time": "2020-08-15T23:13:27.370594",
     "exception": false,
     "start_time": "2020-08-15T23:13:27.265517",
     "status": "completed"
    },
    "tags": []
   },
   "outputs": [
    {
     "name": "stdout",
     "output_type": "stream",
     "text": [
      "                              rating  num of ratings\n",
      "title                                               \n",
      "Forrest Gump                4.054252             341\n",
      "Pulp Fiction                4.256173             324\n",
      "The Shawshank Redemption    4.487138             311\n",
      "The Silence of the Lambs    4.138158             304\n",
      "Star Wars                   4.221649             291\n",
      "Jurassic Park               3.706204             274\n",
      "The Matrix                  4.183398             259\n",
      "Toy Story                   3.872470             247\n",
      "Schindler's List            4.303279             244\n",
      "Terminator 2: Judgment Day  4.006329             237\n"
     ]
    }
   ],
   "source": [
    "ratings = pd.DataFrame(df.groupby('title')['rating'].mean())\n",
    "ratings['num of ratings'] = pd.DataFrame(df.groupby('title')['rating'].count())\n",
    "print(ratings.sort_values('num of ratings',ascending=False).head(10))"
   ]
  },
  {
   "cell_type": "code",
   "execution_count": 13,
   "metadata": {
    "execution": {
     "iopub.execute_input": "2020-08-15T23:13:27.421778Z",
     "iopub.status.busy": "2020-08-15T23:13:27.420513Z",
     "iopub.status.idle": "2020-08-15T23:13:28.751436Z",
     "shell.execute_reply": "2020-08-15T23:13:28.750761Z"
    },
    "papermill": {
     "duration": 1.363923,
     "end_time": "2020-08-15T23:13:28.751614",
     "exception": false,
     "start_time": "2020-08-15T23:13:27.387691",
     "status": "completed"
    },
    "tags": []
   },
   "outputs": [
    {
     "data": {
      "image/png": "[encoded data removed]",
      "text/plain": [
       "<Figure size 432x432 with 3 Axes>"
      ]
     },
     "metadata": {},
     "output_type": "display_data"
    }
   ],
   "source": [
    "sns.jointplot(x='rating',y='num of ratings',data=ratings,alpha=0.5)\n",
    "plt.show()"
   ]
  },
  {
   "cell_type": "code",
   "execution_count": 14,
   "metadata": {
    "execution": {
     "iopub.execute_input": "2020-08-15T23:13:28.795326Z",
     "iopub.status.busy": "2020-08-15T23:13:28.794513Z",
     "iopub.status.idle": "2020-08-15T23:13:29.206828Z",
     "shell.execute_reply": "2020-08-15T23:13:29.206082Z"
    },
    "papermill": {
     "duration": 0.437469,
     "end_time": "2020-08-15T23:13:29.206985",
     "exception": false,
     "start_time": "2020-08-15T23:13:28.769516",
     "status": "completed"
    },
    "tags": []
   },
   "outputs": [
    {
     "data": {
      "text/html": [
       "<div>\n",
       "<style scoped>\n",
       "    .dataframe tbody tr th:only-of-type {\n",
       "        vertical-align: middle;\n",
       "    }\n",
       "\n",
       "    .dataframe tbody tr th {\n",
       "        vertical-align: top;\n",
       "    }\n",
       "\n",
       "    .dataframe thead th {\n",
       "        text-align: right;\n",
       "    }\n",
       "</style>\n",
       "<table border=\"1\" class=\"dataframe\">\n",
       "  <thead>\n",
       "    <tr style=\"text-align: right;\">\n",
       "      <th>title</th>\n",
       "      <th>$9.99</th>\n",
       "      <th>'Neath the Arizona Skies</th>\n",
       "      <th>'night, Mother</th>\n",
       "      <th>(500) Days of Summer</th>\n",
       "      <th>...And God Created Woman</th>\n",
       "      <th>...And Justice for All</th>\n",
       "      <th>1-900</th>\n",
       "      <th>10</th>\n",
       "      <th>10 Attitudes</th>\n",
       "      <th>10 Cloverfield Lane</th>\n",
       "      <th>...</th>\n",
       "      <th>eXistenZ</th>\n",
       "      <th>loudQUIETloud: A Film About the Pixies</th>\n",
       "      <th>xXx</th>\n",
       "      <th>xXx: State of the Union</th>\n",
       "      <th>¡Three Amigos!</th>\n",
       "      <th>À Nous la Liberté</th>\n",
       "      <th>Æon Flux</th>\n",
       "      <th>İtirazım Var</th>\n",
       "      <th>Želary</th>\n",
       "      <th>’Round Midnight</th>\n",
       "    </tr>\n",
       "    <tr>\n",
       "      <th>userId</th>\n",
       "      <th></th>\n",
       "      <th></th>\n",
       "      <th></th>\n",
       "      <th></th>\n",
       "      <th></th>\n",
       "      <th></th>\n",
       "      <th></th>\n",
       "      <th></th>\n",
       "      <th></th>\n",
       "      <th></th>\n",
       "      <th></th>\n",
       "      <th></th>\n",
       "      <th></th>\n",
       "      <th></th>\n",
       "      <th></th>\n",
       "      <th></th>\n",
       "      <th></th>\n",
       "      <th></th>\n",
       "      <th></th>\n",
       "      <th></th>\n",
       "      <th></th>\n",
       "    </tr>\n",
       "  </thead>\n",
       "  <tbody>\n",
       "    <tr>\n",
       "      <th>1</th>\n",
       "      <td>NaN</td>\n",
       "      <td>NaN</td>\n",
       "      <td>NaN</td>\n",
       "      <td>NaN</td>\n",
       "      <td>NaN</td>\n",
       "      <td>NaN</td>\n",
       "      <td>NaN</td>\n",
       "      <td>NaN</td>\n",
       "      <td>NaN</td>\n",
       "      <td>NaN</td>\n",
       "      <td>...</td>\n",
       "      <td>NaN</td>\n",
       "      <td>NaN</td>\n",
       "      <td>NaN</td>\n",
       "      <td>NaN</td>\n",
       "      <td>NaN</td>\n",
       "      <td>NaN</td>\n",
       "      <td>NaN</td>\n",
       "      <td>NaN</td>\n",
       "      <td>NaN</td>\n",
       "      <td>NaN</td>\n",
       "    </tr>\n",
       "    <tr>\n",
       "      <th>2</th>\n",
       "      <td>NaN</td>\n",
       "      <td>NaN</td>\n",
       "      <td>NaN</td>\n",
       "      <td>NaN</td>\n",
       "      <td>NaN</td>\n",
       "      <td>NaN</td>\n",
       "      <td>NaN</td>\n",
       "      <td>NaN</td>\n",
       "      <td>NaN</td>\n",
       "      <td>NaN</td>\n",
       "      <td>...</td>\n",
       "      <td>NaN</td>\n",
       "      <td>NaN</td>\n",
       "      <td>NaN</td>\n",
       "      <td>NaN</td>\n",
       "      <td>NaN</td>\n",
       "      <td>NaN</td>\n",
       "      <td>NaN</td>\n",
       "      <td>NaN</td>\n",
       "      <td>NaN</td>\n",
       "      <td>NaN</td>\n",
       "    </tr>\n",
       "    <tr>\n",
       "      <th>3</th>\n",
       "      <td>NaN</td>\n",
       "      <td>NaN</td>\n",
       "      <td>NaN</td>\n",
       "      <td>NaN</td>\n",
       "      <td>NaN</td>\n",
       "      <td>NaN</td>\n",
       "      <td>NaN</td>\n",
       "      <td>NaN</td>\n",
       "      <td>NaN</td>\n",
       "      <td>NaN</td>\n",
       "      <td>...</td>\n",
       "      <td>NaN</td>\n",
       "      <td>NaN</td>\n",
       "      <td>NaN</td>\n",
       "      <td>NaN</td>\n",
       "      <td>NaN</td>\n",
       "      <td>NaN</td>\n",
       "      <td>NaN</td>\n",
       "      <td>NaN</td>\n",
       "      <td>NaN</td>\n",
       "      <td>NaN</td>\n",
       "    </tr>\n",
       "    <tr>\n",
       "      <th>4</th>\n",
       "      <td>NaN</td>\n",
       "      <td>NaN</td>\n",
       "      <td>NaN</td>\n",
       "      <td>NaN</td>\n",
       "      <td>NaN</td>\n",
       "      <td>NaN</td>\n",
       "      <td>NaN</td>\n",
       "      <td>NaN</td>\n",
       "      <td>NaN</td>\n",
       "      <td>NaN</td>\n",
       "      <td>...</td>\n",
       "      <td>NaN</td>\n",
       "      <td>NaN</td>\n",
       "      <td>NaN</td>\n",
       "      <td>NaN</td>\n",
       "      <td>NaN</td>\n",
       "      <td>NaN</td>\n",
       "      <td>NaN</td>\n",
       "      <td>NaN</td>\n",
       "      <td>NaN</td>\n",
       "      <td>NaN</td>\n",
       "    </tr>\n",
       "    <tr>\n",
       "      <th>5</th>\n",
       "      <td>NaN</td>\n",
       "      <td>NaN</td>\n",
       "      <td>NaN</td>\n",
       "      <td>NaN</td>\n",
       "      <td>NaN</td>\n",
       "      <td>NaN</td>\n",
       "      <td>NaN</td>\n",
       "      <td>NaN</td>\n",
       "      <td>NaN</td>\n",
       "      <td>NaN</td>\n",
       "      <td>...</td>\n",
       "      <td>NaN</td>\n",
       "      <td>NaN</td>\n",
       "      <td>NaN</td>\n",
       "      <td>NaN</td>\n",
       "      <td>NaN</td>\n",
       "      <td>NaN</td>\n",
       "      <td>NaN</td>\n",
       "      <td>NaN</td>\n",
       "      <td>NaN</td>\n",
       "      <td>NaN</td>\n",
       "    </tr>\n",
       "  </tbody>\n",
       "</table>\n",
       "<p>5 rows × 8754 columns</p>\n",
       "</div>"
      ],
      "text/plain": [
       "title   $9.99  'Neath the Arizona Skies  'night, Mother  (500) Days of Summer  \\\n",
       "userId                                                                          \n",
       "1         NaN                       NaN             NaN                   NaN   \n",
       "2         NaN                       NaN             NaN                   NaN   \n",
       "3         NaN                       NaN             NaN                   NaN   \n",
       "4         NaN                       NaN             NaN                   NaN   \n",
       "5         NaN                       NaN             NaN                   NaN   \n",
       "\n",
       "title   ...And God Created Woman  ...And Justice for All  1-900  10  \\\n",
       "userId                                                                \n",
       "1                            NaN                     NaN    NaN NaN   \n",
       "2                            NaN                     NaN    NaN NaN   \n",
       "3                            NaN                     NaN    NaN NaN   \n",
       "4                            NaN                     NaN    NaN NaN   \n",
       "5                            NaN                     NaN    NaN NaN   \n",
       "\n",
       "title   10 Attitudes  10 Cloverfield Lane  ...  eXistenZ  \\\n",
       "userId                                     ...             \n",
       "1                NaN                  NaN  ...       NaN   \n",
       "2                NaN                  NaN  ...       NaN   \n",
       "3                NaN                  NaN  ...       NaN   \n",
       "4                NaN                  NaN  ...       NaN   \n",
       "5                NaN                  NaN  ...       NaN   \n",
       "\n",
       "title   loudQUIETloud: A Film About the Pixies  xXx  xXx: State of the Union  \\\n",
       "userId                                                                         \n",
       "1                                          NaN  NaN                      NaN   \n",
       "2                                          NaN  NaN                      NaN   \n",
       "3                                          NaN  NaN                      NaN   \n",
       "4                                          NaN  NaN                      NaN   \n",
       "5                                          NaN  NaN                      NaN   \n",
       "\n",
       "title   ¡Three Amigos!  À Nous la Liberté  Æon Flux  İtirazım Var  Želary  \\\n",
       "userId                                                                      \n",
       "1                  NaN                NaN       NaN           NaN     NaN   \n",
       "2                  NaN                NaN       NaN           NaN     NaN   \n",
       "3                  NaN                NaN       NaN           NaN     NaN   \n",
       "4                  NaN                NaN       NaN           NaN     NaN   \n",
       "5                  NaN                NaN       NaN           NaN     NaN   \n",
       "\n",
       "title   ’Round Midnight  \n",
       "userId                   \n",
       "1                   NaN  \n",
       "2                   NaN  \n",
       "3                   NaN  \n",
       "4                   NaN  \n",
       "5                   NaN  \n",
       "\n",
       "[5 rows x 8754 columns]"
      ]
     },
     "execution_count": 14,
     "metadata": {},
     "output_type": "execute_result"
    }
   ],
   "source": [
    "moviemat = df.pivot_table(index='userId',columns='title',values='rating')\n",
    "moviemat.head()"
   ]
  },
  {
   "cell_type": "code",
   "execution_count": 15,
   "metadata": {
    "execution": {
     "iopub.execute_input": "2020-08-15T23:13:29.251009Z",
     "iopub.status.busy": "2020-08-15T23:13:29.250094Z",
     "iopub.status.idle": "2020-08-15T23:13:29.254169Z",
     "shell.execute_reply": "2020-08-15T23:13:29.254787Z"
    },
    "papermill": {
     "duration": 0.029893,
     "end_time": "2020-08-15T23:13:29.255007",
     "exception": false,
     "start_time": "2020-08-15T23:13:29.225114",
     "status": "completed"
    },
    "tags": []
   },
   "outputs": [],
   "source": [
    "avatar_user_ratings = moviemat['Avatar']\n",
    "#starwars_user_ratings = moviemat['Star Wars']\n",
    "#terminator2_user_ratings = moviemat['Terminator 2: Judgment Day']"
   ]
  },
  {
   "cell_type": "code",
   "execution_count": 16,
   "metadata": {
    "execution": {
     "iopub.execute_input": "2020-08-15T23:13:29.301791Z",
     "iopub.status.busy": "2020-08-15T23:13:29.300851Z",
     "iopub.status.idle": "2020-08-15T23:13:32.054617Z",
     "shell.execute_reply": "2020-08-15T23:13:32.053832Z"
    },
    "papermill": {
     "duration": 2.7797,
     "end_time": "2020-08-15T23:13:32.054776",
     "exception": false,
     "start_time": "2020-08-15T23:13:29.275076",
     "status": "completed"
    },
    "tags": []
   },
   "outputs": [
    {
     "name": "stderr",
     "output_type": "stream",
     "text": [
      "/opt/conda/lib/python3.7/site-packages/numpy/lib/function_base.py:2526: RuntimeWarning: Degrees of freedom <= 0 for slice\n",
      "  c = cov(x, y, rowvar)\n",
      "/opt/conda/lib/python3.7/site-packages/numpy/lib/function_base.py:2455: RuntimeWarning: divide by zero encountered in true_divide\n",
      "  c *= np.true_divide(1, fact)\n"
     ]
    }
   ],
   "source": [
    "# calculate how each of other movies is correlated to a certain movie based on each individual user's rating among all movies\n",
    "similar_to_avatar = moviemat.corrwith(avatar_user_ratings)\n",
    "#similar_to_starwars = moviemat.corrwith(starwars_user_ratings) \n",
    "#similar_to_terminator2 = moviemat.corrwith(terminator2_user_ratings)"
   ]
  },
  {
   "cell_type": "code",
   "execution_count": 17,
   "metadata": {
    "execution": {
     "iopub.execute_input": "2020-08-15T23:13:32.112560Z",
     "iopub.status.busy": "2020-08-15T23:13:32.104701Z",
     "iopub.status.idle": "2020-08-15T23:13:32.119818Z",
     "shell.execute_reply": "2020-08-15T23:13:32.118953Z"
    },
    "papermill": {
     "duration": 0.046205,
     "end_time": "2020-08-15T23:13:32.119981",
     "exception": false,
     "start_time": "2020-08-15T23:13:32.073776",
     "status": "completed"
    },
    "tags": []
   },
   "outputs": [
    {
     "data": {
      "text/html": [
       "<div>\n",
       "<style scoped>\n",
       "    .dataframe tbody tr th:only-of-type {\n",
       "        vertical-align: middle;\n",
       "    }\n",
       "\n",
       "    .dataframe tbody tr th {\n",
       "        vertical-align: top;\n",
       "    }\n",
       "\n",
       "    .dataframe thead th {\n",
       "        text-align: right;\n",
       "    }\n",
       "</style>\n",
       "<table border=\"1\" class=\"dataframe\">\n",
       "  <thead>\n",
       "    <tr style=\"text-align: right;\">\n",
       "      <th></th>\n",
       "      <th>Correlation</th>\n",
       "    </tr>\n",
       "    <tr>\n",
       "      <th>title</th>\n",
       "      <th></th>\n",
       "    </tr>\n",
       "  </thead>\n",
       "  <tbody>\n",
       "    <tr>\n",
       "      <th>Fantastic Planet</th>\n",
       "      <td>1.0</td>\n",
       "    </tr>\n",
       "    <tr>\n",
       "      <th>Blood Simple</th>\n",
       "      <td>1.0</td>\n",
       "    </tr>\n",
       "    <tr>\n",
       "      <th>Everything You Always Wanted to Know About Sex *But Were Afraid to Ask</th>\n",
       "      <td>1.0</td>\n",
       "    </tr>\n",
       "    <tr>\n",
       "      <th>The Place Beyond the Pines</th>\n",
       "      <td>1.0</td>\n",
       "    </tr>\n",
       "    <tr>\n",
       "      <th>Abbott and Costello Meet Frankenstein</th>\n",
       "      <td>1.0</td>\n",
       "    </tr>\n",
       "    <tr>\n",
       "      <th>Dreamgirls</th>\n",
       "      <td>1.0</td>\n",
       "    </tr>\n",
       "    <tr>\n",
       "      <th>Middle Men</th>\n",
       "      <td>1.0</td>\n",
       "    </tr>\n",
       "    <tr>\n",
       "      <th>Kazaam</th>\n",
       "      <td>1.0</td>\n",
       "    </tr>\n",
       "    <tr>\n",
       "      <th>Blended</th>\n",
       "      <td>1.0</td>\n",
       "    </tr>\n",
       "    <tr>\n",
       "      <th>Daddy Day Care</th>\n",
       "      <td>1.0</td>\n",
       "    </tr>\n",
       "  </tbody>\n",
       "</table>\n",
       "</div>"
      ],
      "text/plain": [
       "                                                    Correlation\n",
       "title                                                          \n",
       "Fantastic Planet                                            1.0\n",
       "Blood Simple                                                1.0\n",
       "Everything You Always Wanted to Know About Sex ...          1.0\n",
       "The Place Beyond the Pines                                  1.0\n",
       "Abbott and Costello Meet Frankenstein                       1.0\n",
       "Dreamgirls                                                  1.0\n",
       "Middle Men                                                  1.0\n",
       "Kazaam                                                      1.0\n",
       "Blended                                                     1.0\n",
       "Daddy Day Care                                              1.0"
      ]
     },
     "execution_count": 17,
     "metadata": {},
     "output_type": "execute_result"
    }
   ],
   "source": [
    "corr_avatar = pd.DataFrame(similar_to_avatar,columns=['Correlation'])\n",
    "corr_avatar.dropna(inplace=True)\n",
    "corr_avatar.sort_values('Correlation',ascending=False).head(10)"
   ]
  },
  {
   "cell_type": "markdown",
   "execution_count": null,
   "metadata": {
    "papermill": {
     "duration": 0.019986,
     "end_time": "2020-08-15T23:13:32.159521",
     "exception": false,
     "start_time": "2020-08-15T23:13:32.139535",
     "status": "completed"
    },
    "tags": []
   },
   "source": [
    "From the above result, you can see some movies are recognized as perfectly correlated with The Dark Knight, although common sense tell us that it's because these moves are rarely watched and correlation could be accidental, so we need to filter out these \"correlated\" movies based on 'num of ratings'."
   ]
  },
  {
   "cell_type": "code",
   "execution_count": 18,
   "metadata": {
    "_cell_guid": "b1076dfc-b9ad-4769-8c92-a6c4dae69d19",
    "_uuid": "8f2839f25d086af736a60e9eeb907d3b93b6e0e5",
    "execution": {
     "iopub.execute_input": "2020-08-15T23:13:32.231580Z",
     "iopub.status.busy": "2020-08-15T23:13:32.216416Z",
     "iopub.status.idle": "2020-08-15T23:13:32.237522Z",
     "shell.execute_reply": "2020-08-15T23:13:32.238205Z"
    },
    "papermill": {
     "duration": 0.060772,
     "end_time": "2020-08-15T23:13:32.238429",
     "exception": false,
     "start_time": "2020-08-15T23:13:32.177657",
     "status": "completed"
    },
    "tags": []
   },
   "outputs": [
    {
     "data": {
      "text/html": [
       "<div>\n",
       "<style scoped>\n",
       "    .dataframe tbody tr th:only-of-type {\n",
       "        vertical-align: middle;\n",
       "    }\n",
       "\n",
       "    .dataframe tbody tr th {\n",
       "        vertical-align: top;\n",
       "    }\n",
       "\n",
       "    .dataframe thead th {\n",
       "        text-align: right;\n",
       "    }\n",
       "</style>\n",
       "<table border=\"1\" class=\"dataframe\">\n",
       "  <thead>\n",
       "    <tr style=\"text-align: right;\">\n",
       "      <th></th>\n",
       "      <th>Correlation</th>\n",
       "      <th>num of ratings</th>\n",
       "    </tr>\n",
       "    <tr>\n",
       "      <th>title</th>\n",
       "      <th></th>\n",
       "      <th></th>\n",
       "    </tr>\n",
       "  </thead>\n",
       "  <tbody>\n",
       "    <tr>\n",
       "      <th>Star Trek: Generations</th>\n",
       "      <td>0.788383</td>\n",
       "      <td>114</td>\n",
       "    </tr>\n",
       "    <tr>\n",
       "      <th>Independence Day</th>\n",
       "      <td>0.728728</td>\n",
       "      <td>218</td>\n",
       "    </tr>\n",
       "    <tr>\n",
       "      <th>Mission: Impossible</th>\n",
       "      <td>0.724207</td>\n",
       "      <td>168</td>\n",
       "    </tr>\n",
       "    <tr>\n",
       "      <th>Speed</th>\n",
       "      <td>0.699403</td>\n",
       "      <td>180</td>\n",
       "    </tr>\n",
       "    <tr>\n",
       "      <th>Schindler's List</th>\n",
       "      <td>0.664693</td>\n",
       "      <td>244</td>\n",
       "    </tr>\n",
       "    <tr>\n",
       "      <th>The Firm</th>\n",
       "      <td>0.638222</td>\n",
       "      <td>110</td>\n",
       "    </tr>\n",
       "    <tr>\n",
       "      <th>The Bourne Identity</th>\n",
       "      <td>0.634698</td>\n",
       "      <td>113</td>\n",
       "    </tr>\n",
       "    <tr>\n",
       "      <th>Return of the Jedi</th>\n",
       "      <td>0.602493</td>\n",
       "      <td>217</td>\n",
       "    </tr>\n",
       "    <tr>\n",
       "      <th>The Lord of the Rings: The Two Towers</th>\n",
       "      <td>0.596398</td>\n",
       "      <td>188</td>\n",
       "    </tr>\n",
       "    <tr>\n",
       "      <th>Planet of the Apes</th>\n",
       "      <td>0.578118</td>\n",
       "      <td>101</td>\n",
       "    </tr>\n",
       "  </tbody>\n",
       "</table>\n",
       "</div>"
      ],
      "text/plain": [
       "                                       Correlation  num of ratings\n",
       "title                                                             \n",
       "Star Trek: Generations                    0.788383             114\n",
       "Independence Day                          0.728728             218\n",
       "Mission: Impossible                       0.724207             168\n",
       "Speed                                     0.699403             180\n",
       "Schindler's List                          0.664693             244\n",
       "The Firm                                  0.638222             110\n",
       "The Bourne Identity                       0.634698             113\n",
       "Return of the Jedi                        0.602493             217\n",
       "The Lord of the Rings: The Two Towers     0.596398             188\n",
       "Planet of the Apes                        0.578118             101"
      ]
     },
     "execution_count": 18,
     "metadata": {},
     "output_type": "execute_result"
    }
   ],
   "source": [
    "# filter out any movies with less than 100 ratings\n",
    "corr_avatar = corr_avatar.join(ratings['num of ratings']) # here I use .join() instead of .merge() because both corr_avatar and ratings tables have the same index 'title'\n",
    "corr_avatar[corr_avatar['num of ratings']>100].sort_values('Correlation',ascending=False).head(10)"
   ]
  },
  {
   "cell_type": "markdown",
   "execution_count": null,
   "metadata": {
    "papermill": {
     "duration": 0.020412,
     "end_time": "2020-08-15T23:13:32.277724",
     "exception": false,
     "start_time": "2020-08-15T23:13:32.257312",
     "status": "completed"
    },
    "tags": []
   },
   "source": [
    "This time the recommend results look more reasonable. Fun fact: sometimes recommendation system recommends a movie might not be how similar the movies' features are, but simply both movies are popular, in other words, movie is recommended based on similar popularity."
   ]
  },
  {
   "cell_type": "markdown",
   "execution_count": null,
   "metadata": {
    "papermill": {
     "duration": 0.01863,
     "end_time": "2020-08-15T23:13:32.315596",
     "exception": false,
     "start_time": "2020-08-15T23:13:32.296966",
     "status": "completed"
    },
    "tags": []
   },
   "source": [
    "# Part III: Content Based Filtering Method\n",
    "\n",
    "This method suggests similar items based on a particular item. It is based on item content information, such as genre, director, description, actors, etc. for movies, to make these recommendations, instead of based on user opinions. The main idea behind is that if a person liked a particular item, he or she will also like other similar item.\n",
    "\n",
    "Back to this task, for starters, the most straightforward factor to decide whether two movies are similar content-wise is probably \"overview\", as it summarizes the movie story. However, one thing I noticed from my HBO experience is that, after I watched \"The Dark Knight\", HBO started recommending the Batman-universe movies such as \"Batman v Superman\" or \"Batman & Robin\" or \"Batman Returns\". Though in real life what I'm more likely interested in are probably \"The Prestige\" or \"Inception\", i.e. Christopher Nolan directed movies or movies that cast Christian Bale. I know HBO couldn't recommend these movies because they don't have it now, but you get the idea: Apparently director or cast should be more prevailing factor than movie overview.\n",
    "\n",
    "So I will dig into a recommender system that is based on Cast, Crew, Keywords and Genre, et cetera.\n"
   ]
  },
  {
   "cell_type": "code",
   "execution_count": 19,
   "metadata": {
    "execution": {
     "iopub.execute_input": "2020-08-15T23:13:32.364517Z",
     "iopub.status.busy": "2020-08-15T23:13:32.363579Z",
     "iopub.status.idle": "2020-08-15T23:13:34.935684Z",
     "shell.execute_reply": "2020-08-15T23:13:34.934794Z"
    },
    "papermill": {
     "duration": 2.601279,
     "end_time": "2020-08-15T23:13:34.935844",
     "exception": false,
     "start_time": "2020-08-15T23:13:32.334565",
     "status": "completed"
    },
    "tags": []
   },
   "outputs": [],
   "source": [
    "credits = pd.read_csv('../input/the-movies-dataset/credits.csv')\n",
    "keywords = pd.read_csv('../input/the-movies-dataset/keywords.csv')\n",
    "\n",
    "keywords['id'] = keywords['id'].astype('int')\n",
    "credits['id'] = credits['id'].astype('int')"
   ]
  },
  {
   "cell_type": "code",
   "execution_count": 20,
   "metadata": {
    "execution": {
     "iopub.execute_input": "2020-08-15T23:13:34.985207Z",
     "iopub.status.busy": "2020-08-15T23:13:34.984400Z",
     "iopub.status.idle": "2020-08-15T23:13:35.070851Z",
     "shell.execute_reply": "2020-08-15T23:13:35.070154Z"
    },
    "papermill": {
     "duration": 0.114678,
     "end_time": "2020-08-15T23:13:35.071024",
     "exception": false,
     "start_time": "2020-08-15T23:13:34.956346",
     "status": "completed"
    },
    "tags": []
   },
   "outputs": [],
   "source": [
    "movie_info = movie_info.merge(credits, on='id')\n",
    "movie_info = movie_info.merge(keywords, on='id')"
   ]
  },
  {
   "cell_type": "code",
   "execution_count": 21,
   "metadata": {
    "execution": {
     "iopub.execute_input": "2020-08-15T23:13:35.118536Z",
     "iopub.status.busy": "2020-08-15T23:13:35.117445Z",
     "iopub.status.idle": "2020-08-15T23:13:35.124246Z",
     "shell.execute_reply": "2020-08-15T23:13:35.123314Z"
    },
    "papermill": {
     "duration": 0.033456,
     "end_time": "2020-08-15T23:13:35.124420",
     "exception": false,
     "start_time": "2020-08-15T23:13:35.090964",
     "status": "completed"
    },
    "tags": []
   },
   "outputs": [
    {
     "data": {
      "text/plain": [
       "array([\"[{'cast_id': 14, 'character': 'Woody (voice)', 'credit_id': '52fe4284c3a36847f8024f95', 'gender': 2, 'id': 31, 'name': 'Tom Hanks', 'order': 0, 'profile_path': '/pQFoyx7rp09CJTAb932F2g8Nlho.jpg'}, {'cast_id': 15, 'character': 'Buzz Lightyear (voice)', 'credit_id': '52fe4284c3a36847f8024f99', 'gender': 2, 'id': 12898, 'name': 'Tim Allen', 'order': 1, 'profile_path': '/uX2xVf6pMmPepxnvFWyBtjexzgY.jpg'}, {'cast_id': 16, 'character': 'Mr. Potato Head (voice)', 'credit_id': '52fe4284c3a36847f8024f9d', 'gender': 2, 'id': 7167, 'name': 'Don Rickles', 'order': 2, 'profile_path': '/h5BcaDMPRVLHLDzbQavec4xfSdt.jpg'}, {'cast_id': 17, 'character': 'Slinky Dog (voice)', 'credit_id': '52fe4284c3a36847f8024fa1', 'gender': 2, 'id': 12899, 'name': 'Jim Varney', 'order': 3, 'profile_path': '/eIo2jVVXYgjDtaHoF19Ll9vtW7h.jpg'}, {'cast_id': 18, 'character': 'Rex (voice)', 'credit_id': '52fe4284c3a36847f8024fa5', 'gender': 2, 'id': 12900, 'name': 'Wallace Shawn', 'order': 4, 'profile_path': '/oGE6JqPP2xH4tNORKNqxbNPYi7u.jpg'}, {'cast_id': 19, 'character': 'Hamm (voice)', 'credit_id': '52fe4284c3a36847f8024fa9', 'gender': 2, 'id': 7907, 'name': 'John Ratzenberger', 'order': 5, 'profile_path': '/yGechiKWL6TJDfVE2KPSJYqdMsY.jpg'}, {'cast_id': 20, 'character': 'Bo Peep (voice)', 'credit_id': '52fe4284c3a36847f8024fad', 'gender': 1, 'id': 8873, 'name': 'Annie Potts', 'order': 6, 'profile_path': '/eryXT84RL41jHSJcMy4kS3u9y6w.jpg'}, {'cast_id': 26, 'character': 'Andy (voice)', 'credit_id': '52fe4284c3a36847f8024fc1', 'gender': 0, 'id': 1116442, 'name': 'John Morris', 'order': 7, 'profile_path': '/vYGyvK4LzeaUCoNSHtsuqJUY15M.jpg'}, {'cast_id': 22, 'character': 'Sid (voice)', 'credit_id': '52fe4284c3a36847f8024fb1', 'gender': 2, 'id': 12901, 'name': 'Erik von Detten', 'order': 8, 'profile_path': '/twnF1ZaJ1FUNUuo6xLXwcxjayBE.jpg'}, {'cast_id': 23, 'character': 'Mrs. Davis (voice)', 'credit_id': '52fe4284c3a36847f8024fb5', 'gender': 1, 'id': 12133, 'name': 'Laurie Metcalf', 'order': 9, 'profile_path': '/unMMIT60eoBM2sN2nyR7EZ2BvvD.jpg'}, {'cast_id': 24, 'character': 'Sergeant (voice)', 'credit_id': '52fe4284c3a36847f8024fb9', 'gender': 2, 'id': 8655, 'name': 'R. Lee Ermey', 'order': 10, 'profile_path': '/r8GBqFBjypLUP9VVqDqfZ7wYbSs.jpg'}, {'cast_id': 25, 'character': 'Hannah (voice)', 'credit_id': '52fe4284c3a36847f8024fbd', 'gender': 1, 'id': 12903, 'name': 'Sarah Freeman', 'order': 11, 'profile_path': None}, {'cast_id': 27, 'character': 'TV Announcer (voice)', 'credit_id': '52fe4284c3a36847f8024fc5', 'gender': 2, 'id': 37221, 'name': 'Penn Jillette', 'order': 12, 'profile_path': '/zmAaXUdx12NRsssgHbk1T31j2x9.jpg'}]\"],\n",
       "      dtype=object)"
      ]
     },
     "execution_count": 21,
     "metadata": {},
     "output_type": "execute_result"
    }
   ],
   "source": [
    "# take look at how the values are stored in these \"stringified\" fields\n",
    "movie_info['cast'][0:1].values"
   ]
  },
  {
   "cell_type": "code",
   "execution_count": 22,
   "metadata": {
    "_cell_guid": "79c7e3d0-c299-4dcb-8224-4455121ee9b0",
    "_uuid": "d629ff2d2480ee46fbb7e2d37f6b5fab8052498a",
    "execution": {
     "iopub.execute_input": "2020-08-15T23:13:35.179723Z",
     "iopub.status.busy": "2020-08-15T23:13:35.178849Z",
     "iopub.status.idle": "2020-08-15T23:13:55.329274Z",
     "shell.execute_reply": "2020-08-15T23:13:55.328512Z"
    },
    "papermill": {
     "duration": 20.184511,
     "end_time": "2020-08-15T23:13:55.329413",
     "exception": false,
     "start_time": "2020-08-15T23:13:35.144902",
     "status": "completed"
    },
    "tags": []
   },
   "outputs": [],
   "source": [
    "# Parse the features into a usable structure\n",
    "from ast import literal_eval \n",
    "features = ['cast','crew','keywords','genres']\n",
    "for feature in features:\n",
    "    movie_info[feature] = movie_info[feature].apply(literal_eval)"
   ]
  },
  {
   "cell_type": "markdown",
   "execution_count": null,
   "metadata": {
    "papermill": {
     "duration": 0.019183,
     "end_time": "2020-08-15T23:13:55.369149",
     "exception": false,
     "start_time": "2020-08-15T23:13:55.349966",
     "status": "completed"
    },
    "tags": []
   },
   "source": [
    "* Crew: From the crew, I will only pick the director as feature since the others don't contribute that much to the feel of the movie.\n",
    "* Cast: As lesser known actors and minor roles do not really affect people's opinion of a movie, I will only select the major characters and their respective actors. I will assume the top 3 actors that appear in the credits list are the major actors."
   ]
  },
  {
   "cell_type": "code",
   "execution_count": 23,
   "metadata": {
    "execution": {
     "iopub.execute_input": "2020-08-15T23:13:55.453740Z",
     "iopub.status.busy": "2020-08-15T23:13:55.452686Z",
     "iopub.status.idle": "2020-08-15T23:13:55.455958Z",
     "shell.execute_reply": "2020-08-15T23:13:55.456565Z"
    },
    "papermill": {
     "duration": 0.068773,
     "end_time": "2020-08-15T23:13:55.456762",
     "exception": false,
     "start_time": "2020-08-15T23:13:55.387989",
     "status": "completed"
    },
    "tags": []
   },
   "outputs": [],
   "source": [
    "# Get the director's name from the crew feature. If director is not listed, return NaN\n",
    "def get_director(x): \n",
    "    for i in x:\n",
    "        if i['job']=='Director':\n",
    "            return i['name']\n",
    "    return np.nan\n",
    "\n",
    "movie_info['director'] = movie_info['crew'].apply(get_director)"
   ]
  },
  {
   "cell_type": "code",
   "execution_count": 24,
   "metadata": {
    "execution": {
     "iopub.execute_input": "2020-08-15T23:13:55.524568Z",
     "iopub.status.busy": "2020-08-15T23:13:55.507257Z",
     "iopub.status.idle": "2020-08-15T23:13:55.768050Z",
     "shell.execute_reply": "2020-08-15T23:13:55.767181Z"
    },
    "papermill": {
     "duration": 0.290934,
     "end_time": "2020-08-15T23:13:55.768226",
     "exception": false,
     "start_time": "2020-08-15T23:13:55.477292",
     "status": "completed"
    },
    "tags": []
   },
   "outputs": [],
   "source": [
    "# Returns the list top 3 elements or entire list; whichever is more.\n",
    "def get_list(x): \n",
    "    if isinstance(x,list):\n",
    "        names = [i['name'] for i in x]\n",
    "        #Check if more than 3 elements exist. If yes, return only first three. If no, return entire list.\n",
    "        if len(names) > 3: \n",
    "            names = names[:3]\n",
    "        return names\n",
    "    #Return empty list in case of missing/malformed data\n",
    "    return [] \n",
    "\n",
    "features = ['cast','keywords','genres']\n",
    "for feature in features:\n",
    "    movie_info[feature] = movie_info[feature].apply(get_list)"
   ]
  },
  {
   "cell_type": "markdown",
   "execution_count": null,
   "metadata": {
    "papermill": {
     "duration": 0.019214,
     "end_time": "2020-08-15T23:13:55.809070",
     "exception": false,
     "start_time": "2020-08-15T23:13:55.789856",
     "status": "completed"
    },
    "tags": []
   },
   "source": [
    "The next step would be to convert the names and keyword instances into lowercase and strip all the spaces between them. This is done so that the vectorizer doesn't count the Johnny of \"Johnny Depp\" and \"Johnny Galecki\" as the same."
   ]
  },
  {
   "cell_type": "code",
   "execution_count": 25,
   "metadata": {
    "execution": {
     "iopub.execute_input": "2020-08-15T23:13:55.863842Z",
     "iopub.status.busy": "2020-08-15T23:13:55.857437Z",
     "iopub.status.idle": "2020-08-15T23:13:56.111718Z",
     "shell.execute_reply": "2020-08-15T23:13:56.110855Z"
    },
    "papermill": {
     "duration": 0.28369,
     "end_time": "2020-08-15T23:13:56.111888",
     "exception": false,
     "start_time": "2020-08-15T23:13:55.828198",
     "status": "completed"
    },
    "tags": []
   },
   "outputs": [],
   "source": [
    "# Function to convert all strings to lower case and strip names of spaces\n",
    "def clean_data(x): \n",
    "    if isinstance(x,list):\n",
    "        return [str.lower(i.replace(' ','')) for i in x]\n",
    "    #Check if director exists. If not, return empty string\n",
    "    else: \n",
    "        if isinstance(x,str):\n",
    "            return str.lower(x.replace(' ',''))\n",
    "        else:\n",
    "            return ''\n",
    "features = ['cast', 'director', 'keywords', 'genres']\n",
    "for feature in features:\n",
    "    movie_info[feature] = movie_info[feature].apply(clean_data)"
   ]
  },
  {
   "cell_type": "markdown",
   "execution_count": null,
   "metadata": {
    "papermill": {
     "duration": 0.01904,
     "end_time": "2020-08-15T23:13:56.150334",
     "exception": false,
     "start_time": "2020-08-15T23:13:56.131294",
     "status": "completed"
    },
    "tags": []
   },
   "source": [
    "One additional step before creating the \"meta\" string: I'd like to assign more weight to the field \"director\" relative to the entire cast, i.e. mention the director field twice"
   ]
  },
  {
   "cell_type": "code",
   "execution_count": 26,
   "metadata": {
    "execution": {
     "iopub.execute_input": "2020-08-15T23:13:56.205580Z",
     "iopub.status.busy": "2020-08-15T23:13:56.204740Z",
     "iopub.status.idle": "2020-08-15T23:13:56.208940Z",
     "shell.execute_reply": "2020-08-15T23:13:56.209613Z"
    },
    "papermill": {
     "duration": 0.039972,
     "end_time": "2020-08-15T23:13:56.209816",
     "exception": false,
     "start_time": "2020-08-15T23:13:56.169844",
     "status": "completed"
    },
    "tags": []
   },
   "outputs": [],
   "source": [
    "movie_info['director'] = movie_info['director'].apply(lambda x: [x,x])"
   ]
  },
  {
   "cell_type": "code",
   "execution_count": 27,
   "metadata": {
    "execution": {
     "iopub.execute_input": "2020-08-15T23:13:56.257053Z",
     "iopub.status.busy": "2020-08-15T23:13:56.256207Z",
     "iopub.status.idle": "2020-08-15T23:13:56.293464Z",
     "shell.execute_reply": "2020-08-15T23:13:56.292549Z"
    },
    "papermill": {
     "duration": 0.064744,
     "end_time": "2020-08-15T23:13:56.293662",
     "exception": false,
     "start_time": "2020-08-15T23:13:56.228918",
     "status": "completed"
    },
    "tags": []
   },
   "outputs": [
    {
     "data": {
      "text/html": [
       "<div>\n",
       "<style scoped>\n",
       "    .dataframe tbody tr th:only-of-type {\n",
       "        vertical-align: middle;\n",
       "    }\n",
       "\n",
       "    .dataframe tbody tr th {\n",
       "        vertical-align: top;\n",
       "    }\n",
       "\n",
       "    .dataframe thead th {\n",
       "        text-align: right;\n",
       "    }\n",
       "</style>\n",
       "<table border=\"1\" class=\"dataframe\">\n",
       "  <thead>\n",
       "    <tr style=\"text-align: right;\">\n",
       "      <th></th>\n",
       "      <th>title</th>\n",
       "      <th>cast</th>\n",
       "      <th>director</th>\n",
       "      <th>keywords</th>\n",
       "      <th>genres</th>\n",
       "    </tr>\n",
       "  </thead>\n",
       "  <tbody>\n",
       "    <tr>\n",
       "      <th>0</th>\n",
       "      <td>Toy Story</td>\n",
       "      <td>[tomhanks, timallen, donrickles]</td>\n",
       "      <td>[johnlasseter, johnlasseter]</td>\n",
       "      <td>[jealousy, toy, boy]</td>\n",
       "      <td>[animation, comedy, family]</td>\n",
       "    </tr>\n",
       "    <tr>\n",
       "      <th>1</th>\n",
       "      <td>Jumanji</td>\n",
       "      <td>[robinwilliams, jonathanhyde, kirstendunst]</td>\n",
       "      <td>[joejohnston, joejohnston]</td>\n",
       "      <td>[boardgame, disappearance, basedonchildren'sbook]</td>\n",
       "      <td>[adventure, fantasy, family]</td>\n",
       "    </tr>\n",
       "    <tr>\n",
       "      <th>2</th>\n",
       "      <td>Grumpier Old Men</td>\n",
       "      <td>[waltermatthau, jacklemmon, ann-margret]</td>\n",
       "      <td>[howarddeutch, howarddeutch]</td>\n",
       "      <td>[fishing, bestfriend, duringcreditsstinger]</td>\n",
       "      <td>[romance, comedy]</td>\n",
       "    </tr>\n",
       "  </tbody>\n",
       "</table>\n",
       "</div>"
      ],
      "text/plain": [
       "              title                                         cast  \\\n",
       "0         Toy Story             [tomhanks, timallen, donrickles]   \n",
       "1           Jumanji  [robinwilliams, jonathanhyde, kirstendunst]   \n",
       "2  Grumpier Old Men     [waltermatthau, jacklemmon, ann-margret]   \n",
       "\n",
       "                       director  \\\n",
       "0  [johnlasseter, johnlasseter]   \n",
       "1    [joejohnston, joejohnston]   \n",
       "2  [howarddeutch, howarddeutch]   \n",
       "\n",
       "                                            keywords  \\\n",
       "0                               [jealousy, toy, boy]   \n",
       "1  [boardgame, disappearance, basedonchildren'sbook]   \n",
       "2        [fishing, bestfriend, duringcreditsstinger]   \n",
       "\n",
       "                         genres  \n",
       "0   [animation, comedy, family]  \n",
       "1  [adventure, fantasy, family]  \n",
       "2             [romance, comedy]  "
      ]
     },
     "execution_count": 27,
     "metadata": {},
     "output_type": "execute_result"
    }
   ],
   "source": [
    "# take a look at the transformed fields\n",
    "movie_info[['title', 'cast', 'director', 'keywords', 'genres']].head(3)"
   ]
  },
  {
   "cell_type": "code",
   "execution_count": 28,
   "metadata": {
    "execution": {
     "iopub.execute_input": "2020-08-15T23:13:56.348051Z",
     "iopub.status.busy": "2020-08-15T23:13:56.347148Z",
     "iopub.status.idle": "2020-08-15T23:13:56.699200Z",
     "shell.execute_reply": "2020-08-15T23:13:56.698441Z"
    },
    "papermill": {
     "duration": 0.385287,
     "end_time": "2020-08-15T23:13:56.699381",
     "exception": false,
     "start_time": "2020-08-15T23:13:56.314094",
     "status": "completed"
    },
    "tags": []
   },
   "outputs": [],
   "source": [
    "# Now to create the \"metadata soup\", which is a string that contains all the metadata that will be fed to the vectorizer (namely actors, director and keywords).\n",
    "def create_soup(x):\n",
    "    return ' '.join(x['keywords']) + ' ' + \\\n",
    "           ' '.join(x['cast']) + ' ' + \\\n",
    "           ' '.join(x['director']) + ' ' + \\\n",
    "           ' '.join(x['genres'])\n",
    "movie_info['soup'] = movie_info.apply(create_soup,axis=1)"
   ]
  },
  {
   "cell_type": "code",
   "execution_count": 29,
   "metadata": {
    "execution": {
     "iopub.execute_input": "2020-08-15T23:13:56.749931Z",
     "iopub.status.busy": "2020-08-15T23:13:56.748773Z",
     "iopub.status.idle": "2020-08-15T23:13:57.131674Z",
     "shell.execute_reply": "2020-08-15T23:13:57.130857Z"
    },
    "papermill": {
     "duration": 0.411751,
     "end_time": "2020-08-15T23:13:57.131824",
     "exception": false,
     "start_time": "2020-08-15T23:13:56.720073",
     "status": "completed"
    },
    "tags": []
   },
   "outputs": [],
   "source": [
    "# Import CountVectorizer and create the count matrix\n",
    "from sklearn.feature_extraction.text import CountVectorizer \n",
    "count = CountVectorizer(stop_words='english')\n",
    "count_matrix = count.fit_transform(movie_info['soup'])"
   ]
  },
  {
   "cell_type": "code",
   "execution_count": 30,
   "metadata": {
    "execution": {
     "iopub.execute_input": "2020-08-15T23:13:57.180963Z",
     "iopub.status.busy": "2020-08-15T23:13:57.179895Z",
     "iopub.status.idle": "2020-08-15T23:13:59.947311Z",
     "shell.execute_reply": "2020-08-15T23:13:59.946647Z"
    },
    "papermill": {
     "duration": 2.795855,
     "end_time": "2020-08-15T23:13:59.947473",
     "exception": false,
     "start_time": "2020-08-15T23:13:57.151618",
     "status": "completed"
    },
    "tags": []
   },
   "outputs": [],
   "source": [
    "# Compute the Cosine Similarity matrix based on the count_matrix\n",
    "from sklearn.metrics.pairwise import cosine_similarity \n",
    "cosine_sim = cosine_similarity(count_matrix,count_matrix)\n",
    "# Reset index of the main DataFrame and construct reverse mapping\n",
    "movie_info = movie_info.reset_index() \n",
    "indices = pd.Series(movie_info.index,index=movie_info['title'])"
   ]
  },
  {
   "cell_type": "code",
   "execution_count": 31,
   "metadata": {
    "execution": {
     "iopub.execute_input": "2020-08-15T23:13:59.997760Z",
     "iopub.status.busy": "2020-08-15T23:13:59.996840Z",
     "iopub.status.idle": "2020-08-15T23:14:00.001531Z",
     "shell.execute_reply": "2020-08-15T23:14:00.000809Z"
    },
    "papermill": {
     "duration": 0.034451,
     "end_time": "2020-08-15T23:14:00.001709",
     "exception": false,
     "start_time": "2020-08-15T23:13:59.967258",
     "status": "completed"
    },
    "tags": []
   },
   "outputs": [],
   "source": [
    "# Function that takes in movie title as input and outputs most similar movies\n",
    "def get_recommendations(title,cosine_sim=cosine_sim): \n",
    "    # Get the index of the movie that matches the title\n",
    "    idx = indices[title] \n",
    "    # Get the pairwsie similarity scores of all movies with that movie\n",
    "    sim_scores = list(enumerate(cosine_sim[idx])) \n",
    "    # Sort the movies based on the similarity scores\n",
    "    sim_scores = sorted(sim_scores,key=lambda x:x[1],reverse=True) \n",
    "    # Get the scores of the 10 most similar movies\n",
    "    sim_scores = sim_scores[1:11] \n",
    "    # Get the movie indices\n",
    "    movie_indices = [i[0] for i in sim_scores] \n",
    "    # Return the top 10 most similar movies\n",
    "    return movie_info['title'].iloc[movie_indices] "
   ]
  },
  {
   "cell_type": "code",
   "execution_count": 32,
   "metadata": {
    "execution": {
     "iopub.execute_input": "2020-08-15T23:14:00.072754Z",
     "iopub.status.busy": "2020-08-15T23:14:00.060799Z",
     "iopub.status.idle": "2020-08-15T23:14:00.079393Z",
     "shell.execute_reply": "2020-08-15T23:14:00.078562Z"
    },
    "papermill": {
     "duration": 0.056799,
     "end_time": "2020-08-15T23:14:00.079564",
     "exception": false,
     "start_time": "2020-08-15T23:14:00.022765",
     "status": "completed"
    },
    "tags": []
   },
   "outputs": [
    {
     "data": {
      "text/plain": [
       "8006    The Dark Knight Rises\n",
       "6202            Batman Begins\n",
       "6602             The Prestige\n",
       "2085                Following\n",
       "4141                 Insomnia\n",
       "8584             Interstellar\n",
       "7624                Inception\n",
       "5424                 Mitchell\n",
       "3381                  Memento\n",
       "6878                   Hitman\n",
       "Name: title, dtype: object"
      ]
     },
     "execution_count": 32,
     "metadata": {},
     "output_type": "execute_result"
    }
   ],
   "source": [
    "get_recommendations('The Dark Knight',cosine_sim)"
   ]
  },
  {
   "cell_type": "markdown",
   "execution_count": null,
   "metadata": {
    "papermill": {
     "duration": 0.024901,
     "end_time": "2020-08-15T23:14:00.218538",
     "exception": false,
     "start_time": "2020-08-15T23:14:00.193637",
     "status": "completed"
    },
    "tags": []
   },
   "source": [
    "From the above, this content-based recommender has been successful in capturing more information and has gives better recommendations. For \"The Dark Knight\", it does highly recommend \"The Prestige\" and \"Inception\". It's also worth trying to add other field such as \"production_company\", so the recommender system can target those Marvels or DC comics fans.\n",
    "\n",
    "One limitation of the content based engine is that it's only capable of suggesting movies which are close to a certain movie. It is not capable of capturing tastes and providing recommendations across genres. And it is unable to personalize recommendations."
   ]
  },
  {
   "cell_type": "markdown",
   "execution_count": null,
   "metadata": {
    "papermill": {
     "duration": 0.024135,
     "end_time": "2020-08-15T23:14:00.268634",
     "exception": false,
     "start_time": "2020-08-15T23:14:00.244499",
     "status": "completed"
    },
    "tags": []
   },
   "source": [
    "# Part IV: Collaborative Filtering Method\n",
    "\n",
    "Collaberative filtering is based on assumption that people like things similar to other things they like, and things that are liked by other people with similar taste. it is mainly of two types: a) User-User, b) Item-Item. Collaborative filters do not require item metadata like its content-based counterparts.\n",
    "\n",
    "User based method recommend products to a user that similar users have liked. The main issue is that users’ preference can change over time. Precomputing the matrix based on their neighboring users may lead to bad performance. \n",
    "\n",
    "Item Based method recommends items based on their similarity with the items that the target user rated. The main issues with this method are scalability and sparsity. Scalability means the computation grows with both the customer and the product. Sparsity means the similarity between two fairly different movies could be simply because they have similar rank from the only user who ranked them both.\n",
    "    \n",
    "One way to handle the scalability and sparsity issue is to leverage a latent factor model (Singular Value Decomposition, SVD) to capture the similarity between users and items. SVD decreases the dimension of the utility matrix by extracting its latent factors. "
   ]
  },
  {
   "cell_type": "code",
   "execution_count": 33,
   "metadata": {
    "execution": {
     "iopub.execute_input": "2020-08-15T23:14:00.329013Z",
     "iopub.status.busy": "2020-08-15T23:14:00.328114Z",
     "iopub.status.idle": "2020-08-15T23:14:00.381254Z",
     "shell.execute_reply": "2020-08-15T23:14:00.380570Z"
    },
    "papermill": {
     "duration": 0.084062,
     "end_time": "2020-08-15T23:14:00.381419",
     "exception": false,
     "start_time": "2020-08-15T23:14:00.297357",
     "status": "completed"
    },
    "tags": []
   },
   "outputs": [],
   "source": [
    "from surprise import Reader,Dataset,SVD\n",
    "from surprise.model_selection import cross_validate \n",
    "reader = Reader()"
   ]
  },
  {
   "cell_type": "code",
   "execution_count": 34,
   "metadata": {
    "execution": {
     "iopub.execute_input": "2020-08-15T23:14:00.437750Z",
     "iopub.status.busy": "2020-08-15T23:14:00.436876Z",
     "iopub.status.idle": "2020-08-15T23:14:00.687229Z",
     "shell.execute_reply": "2020-08-15T23:14:00.686412Z"
    },
    "papermill": {
     "duration": 0.284005,
     "end_time": "2020-08-15T23:14:00.687386",
     "exception": false,
     "start_time": "2020-08-15T23:14:00.403381",
     "status": "completed"
    },
    "tags": []
   },
   "outputs": [],
   "source": [
    "ratings = pd.read_csv('../input/the-movies-dataset/ratings_small.csv')\n",
    "data = Dataset.load_from_df(ratings[['userId','movieId','rating']],reader)"
   ]
  },
  {
   "cell_type": "code",
   "execution_count": 35,
   "metadata": {
    "execution": {
     "iopub.execute_input": "2020-08-15T23:14:00.735570Z",
     "iopub.status.busy": "2020-08-15T23:14:00.734757Z",
     "iopub.status.idle": "2020-08-15T23:14:51.168624Z",
     "shell.execute_reply": "2020-08-15T23:14:51.167897Z"
    },
    "papermill": {
     "duration": 50.460943,
     "end_time": "2020-08-15T23:14:51.168784",
     "exception": false,
     "start_time": "2020-08-15T23:14:00.707841",
     "status": "completed"
    },
    "tags": []
   },
   "outputs": [
    {
     "name": "stdout",
     "output_type": "stream",
     "text": [
      "Evaluating RMSE, MAE of algorithm SVD on 5 split(s).\n",
      "\n",
      "                  Fold 1  Fold 2  Fold 3  Fold 4  Fold 5  Mean    Std     \n",
      "RMSE (testset)    0.9049  0.8920  0.8975  0.8953  0.8987  0.8977  0.0043  \n",
      "MAE (testset)     0.6982  0.6867  0.6914  0.6896  0.6880  0.6908  0.0040  \n",
      "Fit time          9.34    9.40    9.31    9.36    9.44    9.37    0.05    \n",
      "Test time         0.51    0.32    0.49    0.30    0.32    0.39    0.09    \n"
     ]
    },
    {
     "data": {
      "text/plain": [
       "{'test_rmse': array([0.90492889, 0.89197325, 0.89751532, 0.89527771, 0.89868547]),\n",
       " 'test_mae': array([0.69823954, 0.68673523, 0.69137951, 0.68963977, 0.68798063]),\n",
       " 'fit_time': (9.3369300365448,\n",
       "  9.401110887527466,\n",
       "  9.308960914611816,\n",
       "  9.363126993179321,\n",
       "  9.443374156951904),\n",
       " 'test_time': (0.5106310844421387,\n",
       "  0.31694817543029785,\n",
       "  0.4913785457611084,\n",
       "  0.29669761657714844,\n",
       "  0.3218209743499756)}"
      ]
     },
     "execution_count": 35,
     "metadata": {},
     "output_type": "execute_result"
    }
   ],
   "source": [
    "svd = SVD()\n",
    "cross_validate(svd,data,measures=['RMSE','MAE'],cv=5,verbose=True)"
   ]
  },
  {
   "cell_type": "markdown",
   "execution_count": null,
   "metadata": {
    "papermill": {
     "duration": 0.021725,
     "end_time": "2020-08-15T23:14:51.211773",
     "exception": false,
     "start_time": "2020-08-15T23:14:51.190048",
     "status": "completed"
    },
    "tags": []
   },
   "source": [
    "A RMSE of 0.8961 is good enough. Next I will fit the data to the model and make prediction."
   ]
  },
  {
   "cell_type": "code",
   "execution_count": 36,
   "metadata": {
    "execution": {
     "iopub.execute_input": "2020-08-15T23:14:51.305727Z",
     "iopub.status.busy": "2020-08-15T23:14:51.290015Z",
     "iopub.status.idle": "2020-08-15T23:15:02.693375Z",
     "shell.execute_reply": "2020-08-15T23:15:02.692733Z"
    },
    "papermill": {
     "duration": 11.459876,
     "end_time": "2020-08-15T23:15:02.693547",
     "exception": false,
     "start_time": "2020-08-15T23:14:51.233671",
     "status": "completed"
    },
    "tags": []
   },
   "outputs": [
    {
     "data": {
      "text/plain": [
       "<surprise.prediction_algorithms.matrix_factorization.SVD at 0x7f91efa5d150>"
      ]
     },
     "execution_count": 36,
     "metadata": {},
     "output_type": "execute_result"
    }
   ],
   "source": [
    "trainset = data.build_full_trainset()\n",
    "svd.fit(trainset)"
   ]
  },
  {
   "cell_type": "markdown",
   "execution_count": null,
   "metadata": {
    "papermill": {
     "duration": 0.020101,
     "end_time": "2020-08-15T23:15:02.735266",
     "exception": false,
     "start_time": "2020-08-15T23:15:02.715165",
     "status": "completed"
    },
    "tags": []
   },
   "source": [
    "Here is explanation of how to set parameter for svd.predict() : \n",
    "https://surprise.readthedocs.io/en/stable/algobase.html#surprise.prediction_algorithms.algo_base.AlgoBase.predict"
   ]
  },
  {
   "cell_type": "code",
   "execution_count": 37,
   "metadata": {
    "execution": {
     "iopub.execute_input": "2020-08-15T23:15:02.793570Z",
     "iopub.status.busy": "2020-08-15T23:15:02.787965Z",
     "iopub.status.idle": "2020-08-15T23:15:02.800063Z",
     "shell.execute_reply": "2020-08-15T23:15:02.799042Z"
    },
    "papermill": {
     "duration": 0.043255,
     "end_time": "2020-08-15T23:15:02.800293",
     "exception": false,
     "start_time": "2020-08-15T23:15:02.757038",
     "status": "completed"
    },
    "tags": []
   },
   "outputs": [
    {
     "name": "stdout",
     "output_type": "stream",
     "text": [
      "       userId  movieId  rating  timestamp\n",
      "15273     100        1     4.0  854193977\n",
      "15274     100        3     4.0  854194024\n",
      "15275     100        6     3.0  854194023\n",
      "15276     100        7     3.0  854194024\n",
      "15277     100       25     4.0  854193977\n",
      "15278     100       32     5.0  854193977\n",
      "15279     100       52     3.0  854194056\n",
      "15280     100       62     3.0  854193977\n",
      "15281     100       86     3.0  854194208\n",
      "15282     100       88     2.0  854194208\n",
      "15283     100       95     3.0  854193977\n",
      "15284     100      135     3.0  854194086\n",
      "15285     100      141     3.0  854193977\n",
      "15286     100      608     4.0  854194024\n",
      "15287     100      648     3.0  854193977\n",
      "15288     100      661     3.0  854194086\n",
      "15289     100      708     3.0  854194056\n",
      "15290     100      733     3.0  854194024\n",
      "15291     100      736     3.0  854193977\n",
      "15292     100      745     4.0  854194208\n",
      "15293     100      780     3.0  854193977\n",
      "15294     100      786     3.0  854194056\n",
      "15295     100      802     4.0  854194111\n",
      "15296     100     1073     5.0  854194056\n",
      "15297     100     1356     4.0  854194086\n",
      "user: 100        item: 12481      r_ui = None   est = 3.39   {'was_impossible': False}\n",
      "user: 1000       item: 12481      r_ui = None   est = 3.54   {'was_impossible': False}\n"
     ]
    }
   ],
   "source": [
    "print(ratings[ratings['userId']==100]) # Let us pick user 100 and check the ratings s/he has given.\n",
    "print(svd.predict(100,12481)) # The Dark Knight \n",
    "print(svd.predict(1000,12481)) # The Dark Knight "
   ]
  },
  {
   "cell_type": "markdown",
   "execution_count": null,
   "metadata": {
    "papermill": {
     "duration": 0.02207,
     "end_time": "2020-08-15T23:15:02.844362",
     "exception": false,
     "start_time": "2020-08-15T23:15:02.822292",
     "status": "completed"
    },
    "tags": []
   },
   "source": [
    "For movieId 12481, the system estimates that userId 100 would rate it at 3.40, and userId 1000 would rate it at 3.54. You can see essentially, this method turns the recommendation problem into an optimization problem. We can view it as how good we are in predicting how the the rating for items given a user based on this user's ratings to other items.\n",
    "\n",
    "This recommender system can make recommendations across different genres. However one disadvantage of this recommender system is that it doesn't care what the movie is (or what it contains). It works purely on the basis of an assigned movie ID and tries to predict ratings based on how the other users have predicted the movie."
   ]
  },
  {
   "cell_type": "markdown",
   "execution_count": null,
   "metadata": {
    "papermill": {
     "duration": 0.021947,
     "end_time": "2020-08-15T23:15:02.889179",
     "exception": false,
     "start_time": "2020-08-15T23:15:02.867232",
     "status": "completed"
    },
    "tags": []
   },
   "source": [
    "# Part V: Hybrid Recommender\n",
    "\n",
    "This approach is to combine collaborative filtering and content-based filtering. How the model works:\n",
    "* Input: User ID and the Title of a Movie\n",
    "* Output: Similar movies sorted on the basis of expected ratings by that particular user."
   ]
  },
  {
   "cell_type": "code",
   "execution_count": 38,
   "metadata": {
    "execution": {
     "iopub.execute_input": "2020-08-15T23:15:02.942651Z",
     "iopub.status.busy": "2020-08-15T23:15:02.941406Z",
     "iopub.status.idle": "2020-08-15T23:15:02.977851Z",
     "shell.execute_reply": "2020-08-15T23:15:02.976978Z"
    },
    "papermill": {
     "duration": 0.067318,
     "end_time": "2020-08-15T23:15:02.978002",
     "exception": false,
     "start_time": "2020-08-15T23:15:02.910684",
     "status": "completed"
    },
    "tags": []
   },
   "outputs": [],
   "source": [
    "id_links.columns = ['movieId','id']\n",
    "movie_info = movie_info[movie_info['id'].isin(id_links['id'])]\n",
    "\n",
    "id_links = id_links.merge(movie_info[['title','id']],on='id')\n",
    "id_links = id_links.set_index('title')\n",
    "indices_map = id_links.set_index('id')"
   ]
  },
  {
   "cell_type": "code",
   "execution_count": 39,
   "metadata": {
    "execution": {
     "iopub.execute_input": "2020-08-15T23:15:03.036930Z",
     "iopub.status.busy": "2020-08-15T23:15:03.035776Z",
     "iopub.status.idle": "2020-08-15T23:15:03.040442Z",
     "shell.execute_reply": "2020-08-15T23:15:03.039835Z"
    },
    "papermill": {
     "duration": 0.041197,
     "end_time": "2020-08-15T23:15:03.040615",
     "exception": false,
     "start_time": "2020-08-15T23:15:02.999418",
     "status": "completed"
    },
    "tags": []
   },
   "outputs": [],
   "source": [
    "def hybrid(userId,title):\n",
    "    idx = indices[title]\n",
    "    tmdbId = id_links.loc[title]['id']\n",
    "    movie_id = id_links.loc[title]['movieId']\n",
    "    sim_scores = list(enumerate(cosine_sim[int(idx)]))\n",
    "    sim_scores = sorted(sim_scores,key=lambda x:x[1],reverse=True)\n",
    "    sim_scores = sim_scores[1:26]\n",
    "    movie_indices = [i[0] for i in sim_scores]\n",
    "    movies = movie_info.iloc[movie_indices][['title','vote_count','vote_average','id']]\n",
    "    movies['est rating'] = movies['id'].apply(lambda x: svd.predict(userId,indices_map.loc[x]['movieId']).est)\n",
    "    movies = movies.sort_values('est rating',ascending=False)\n",
    "    return movies.head(10)"
   ]
  },
  {
   "cell_type": "code",
   "execution_count": 40,
   "metadata": {
    "execution": {
     "iopub.execute_input": "2020-08-15T23:15:03.108801Z",
     "iopub.status.busy": "2020-08-15T23:15:03.107976Z",
     "iopub.status.idle": "2020-08-15T23:15:03.133177Z",
     "shell.execute_reply": "2020-08-15T23:15:03.132310Z"
    },
    "papermill": {
     "duration": 0.071321,
     "end_time": "2020-08-15T23:15:03.133336",
     "exception": false,
     "start_time": "2020-08-15T23:15:03.062015",
     "status": "completed"
    },
    "tags": []
   },
   "outputs": [
    {
     "data": {
      "text/html": [
       "<div>\n",
       "<style scoped>\n",
       "    .dataframe tbody tr th:only-of-type {\n",
       "        vertical-align: middle;\n",
       "    }\n",
       "\n",
       "    .dataframe tbody tr th {\n",
       "        vertical-align: top;\n",
       "    }\n",
       "\n",
       "    .dataframe thead th {\n",
       "        text-align: right;\n",
       "    }\n",
       "</style>\n",
       "<table border=\"1\" class=\"dataframe\">\n",
       "  <thead>\n",
       "    <tr style=\"text-align: right;\">\n",
       "      <th></th>\n",
       "      <th>title</th>\n",
       "      <th>vote_count</th>\n",
       "      <th>vote_average</th>\n",
       "      <th>id</th>\n",
       "      <th>est rating</th>\n",
       "    </tr>\n",
       "  </thead>\n",
       "  <tbody>\n",
       "    <tr>\n",
       "      <th>6602</th>\n",
       "      <td>The Prestige</td>\n",
       "      <td>4510.0</td>\n",
       "      <td>8.0</td>\n",
       "      <td>1124</td>\n",
       "      <td>4.080218</td>\n",
       "    </tr>\n",
       "    <tr>\n",
       "      <th>3381</th>\n",
       "      <td>Memento</td>\n",
       "      <td>4168.0</td>\n",
       "      <td>8.1</td>\n",
       "      <td>77</td>\n",
       "      <td>3.957849</td>\n",
       "    </tr>\n",
       "    <tr>\n",
       "      <th>7624</th>\n",
       "      <td>Inception</td>\n",
       "      <td>14075.0</td>\n",
       "      <td>8.1</td>\n",
       "      <td>27205</td>\n",
       "      <td>3.924833</td>\n",
       "    </tr>\n",
       "    <tr>\n",
       "      <th>6202</th>\n",
       "      <td>Batman Begins</td>\n",
       "      <td>7511.0</td>\n",
       "      <td>7.5</td>\n",
       "      <td>272</td>\n",
       "      <td>3.820419</td>\n",
       "    </tr>\n",
       "    <tr>\n",
       "      <th>8584</th>\n",
       "      <td>Interstellar</td>\n",
       "      <td>11187.0</td>\n",
       "      <td>8.1</td>\n",
       "      <td>157336</td>\n",
       "      <td>3.807078</td>\n",
       "    </tr>\n",
       "    <tr>\n",
       "      <th>7559</th>\n",
       "      <td>Kick-Ass</td>\n",
       "      <td>4747.0</td>\n",
       "      <td>7.1</td>\n",
       "      <td>23483</td>\n",
       "      <td>3.698843</td>\n",
       "    </tr>\n",
       "    <tr>\n",
       "      <th>8006</th>\n",
       "      <td>The Dark Knight Rises</td>\n",
       "      <td>9263.0</td>\n",
       "      <td>7.6</td>\n",
       "      <td>49026</td>\n",
       "      <td>3.640873</td>\n",
       "    </tr>\n",
       "    <tr>\n",
       "      <th>2085</th>\n",
       "      <td>Following</td>\n",
       "      <td>363.0</td>\n",
       "      <td>7.2</td>\n",
       "      <td>11660</td>\n",
       "      <td>3.545782</td>\n",
       "    </tr>\n",
       "    <tr>\n",
       "      <th>3809</th>\n",
       "      <td>Iron Monkey</td>\n",
       "      <td>81.0</td>\n",
       "      <td>7.6</td>\n",
       "      <td>12780</td>\n",
       "      <td>3.498573</td>\n",
       "    </tr>\n",
       "    <tr>\n",
       "      <th>9071</th>\n",
       "      <td>İtirazım Var</td>\n",
       "      <td>9.0</td>\n",
       "      <td>7.1</td>\n",
       "      <td>265351</td>\n",
       "      <td>3.494260</td>\n",
       "    </tr>\n",
       "  </tbody>\n",
       "</table>\n",
       "</div>"
      ],
      "text/plain": [
       "                      title  vote_count  vote_average      id  est rating\n",
       "6602           The Prestige      4510.0           8.0    1124    4.080218\n",
       "3381                Memento      4168.0           8.1      77    3.957849\n",
       "7624              Inception     14075.0           8.1   27205    3.924833\n",
       "6202          Batman Begins      7511.0           7.5     272    3.820419\n",
       "8584           Interstellar     11187.0           8.1  157336    3.807078\n",
       "7559               Kick-Ass      4747.0           7.1   23483    3.698843\n",
       "8006  The Dark Knight Rises      9263.0           7.6   49026    3.640873\n",
       "2085              Following       363.0           7.2   11660    3.545782\n",
       "3809            Iron Monkey        81.0           7.6   12780    3.498573\n",
       "9071           İtirazım Var         9.0           7.1  265351    3.494260"
      ]
     },
     "execution_count": 40,
     "metadata": {},
     "output_type": "execute_result"
    }
   ],
   "source": [
    "hybrid(100,'The Dark Knight')"
   ]
  },
  {
   "cell_type": "code",
   "execution_count": 41,
   "metadata": {
    "execution": {
     "iopub.execute_input": "2020-08-15T23:15:03.206234Z",
     "iopub.status.busy": "2020-08-15T23:15:03.205363Z",
     "iopub.status.idle": "2020-08-15T23:15:03.228424Z",
     "shell.execute_reply": "2020-08-15T23:15:03.227533Z"
    },
    "papermill": {
     "duration": 0.071531,
     "end_time": "2020-08-15T23:15:03.228597",
     "exception": false,
     "start_time": "2020-08-15T23:15:03.157066",
     "status": "completed"
    },
    "tags": []
   },
   "outputs": [
    {
     "data": {
      "text/html": [
       "<div>\n",
       "<style scoped>\n",
       "    .dataframe tbody tr th:only-of-type {\n",
       "        vertical-align: middle;\n",
       "    }\n",
       "\n",
       "    .dataframe tbody tr th {\n",
       "        vertical-align: top;\n",
       "    }\n",
       "\n",
       "    .dataframe thead th {\n",
       "        text-align: right;\n",
       "    }\n",
       "</style>\n",
       "<table border=\"1\" class=\"dataframe\">\n",
       "  <thead>\n",
       "    <tr style=\"text-align: right;\">\n",
       "      <th></th>\n",
       "      <th>title</th>\n",
       "      <th>vote_count</th>\n",
       "      <th>vote_average</th>\n",
       "      <th>id</th>\n",
       "      <th>est rating</th>\n",
       "    </tr>\n",
       "  </thead>\n",
       "  <tbody>\n",
       "    <tr>\n",
       "      <th>3381</th>\n",
       "      <td>Memento</td>\n",
       "      <td>4168.0</td>\n",
       "      <td>8.1</td>\n",
       "      <td>77</td>\n",
       "      <td>4.243203</td>\n",
       "    </tr>\n",
       "    <tr>\n",
       "      <th>6602</th>\n",
       "      <td>The Prestige</td>\n",
       "      <td>4510.0</td>\n",
       "      <td>8.0</td>\n",
       "      <td>1124</td>\n",
       "      <td>4.160316</td>\n",
       "    </tr>\n",
       "    <tr>\n",
       "      <th>8584</th>\n",
       "      <td>Interstellar</td>\n",
       "      <td>11187.0</td>\n",
       "      <td>8.1</td>\n",
       "      <td>157336</td>\n",
       "      <td>4.026676</td>\n",
       "    </tr>\n",
       "    <tr>\n",
       "      <th>7624</th>\n",
       "      <td>Inception</td>\n",
       "      <td>14075.0</td>\n",
       "      <td>8.1</td>\n",
       "      <td>27205</td>\n",
       "      <td>4.005671</td>\n",
       "    </tr>\n",
       "    <tr>\n",
       "      <th>6202</th>\n",
       "      <td>Batman Begins</td>\n",
       "      <td>7511.0</td>\n",
       "      <td>7.5</td>\n",
       "      <td>272</td>\n",
       "      <td>3.851928</td>\n",
       "    </tr>\n",
       "    <tr>\n",
       "      <th>8006</th>\n",
       "      <td>The Dark Knight Rises</td>\n",
       "      <td>9263.0</td>\n",
       "      <td>7.6</td>\n",
       "      <td>49026</td>\n",
       "      <td>3.789834</td>\n",
       "    </tr>\n",
       "    <tr>\n",
       "      <th>7559</th>\n",
       "      <td>Kick-Ass</td>\n",
       "      <td>4747.0</td>\n",
       "      <td>7.1</td>\n",
       "      <td>23483</td>\n",
       "      <td>3.770779</td>\n",
       "    </tr>\n",
       "    <tr>\n",
       "      <th>3809</th>\n",
       "      <td>Iron Monkey</td>\n",
       "      <td>81.0</td>\n",
       "      <td>7.6</td>\n",
       "      <td>12780</td>\n",
       "      <td>3.679486</td>\n",
       "    </tr>\n",
       "    <tr>\n",
       "      <th>2085</th>\n",
       "      <td>Following</td>\n",
       "      <td>363.0</td>\n",
       "      <td>7.2</td>\n",
       "      <td>11660</td>\n",
       "      <td>3.621782</td>\n",
       "    </tr>\n",
       "    <tr>\n",
       "      <th>5089</th>\n",
       "      <td>The Enforcer</td>\n",
       "      <td>21.0</td>\n",
       "      <td>7.4</td>\n",
       "      <td>26712</td>\n",
       "      <td>3.596561</td>\n",
       "    </tr>\n",
       "  </tbody>\n",
       "</table>\n",
       "</div>"
      ],
      "text/plain": [
       "                      title  vote_count  vote_average      id  est rating\n",
       "3381                Memento      4168.0           8.1      77    4.243203\n",
       "6602           The Prestige      4510.0           8.0    1124    4.160316\n",
       "8584           Interstellar     11187.0           8.1  157336    4.026676\n",
       "7624              Inception     14075.0           8.1   27205    4.005671\n",
       "6202          Batman Begins      7511.0           7.5     272    3.851928\n",
       "8006  The Dark Knight Rises      9263.0           7.6   49026    3.789834\n",
       "7559               Kick-Ass      4747.0           7.1   23483    3.770779\n",
       "3809            Iron Monkey        81.0           7.6   12780    3.679486\n",
       "2085              Following       363.0           7.2   11660    3.621782\n",
       "5089           The Enforcer        21.0           7.4   26712    3.596561"
      ]
     },
     "execution_count": 41,
     "metadata": {},
     "output_type": "execute_result"
    }
   ],
   "source": [
    "hybrid(1000,'The Dark Knight')"
   ]
  },
  {
   "cell_type": "markdown",
   "execution_count": null,
   "metadata": {
    "papermill": {
     "duration": 0.021724,
     "end_time": "2020-08-15T23:15:03.274304",
     "exception": false,
     "start_time": "2020-08-15T23:15:03.252580",
     "status": "completed"
    },
    "tags": []
   },
   "source": [
    "You see that for the hybrid recommender, we get different recommendations for different users although the movie is the same. Hence, the recommendations are more personalized and tailored towards particular users."
   ]
  },
  {
   "cell_type": "markdown",
   "execution_count": null,
   "metadata": {
    "papermill": {
     "duration": 0.02177,
     "end_time": "2020-08-15T23:15:03.319016",
     "exception": false,
     "start_time": "2020-08-15T23:15:03.297246",
     "status": "completed"
    },
    "tags": []
   },
   "source": [
    "# The End\n",
    "\n",
    "In this notebook, I tried 5 different recommendation engines based on different ideas and algorithms. They are as follows:\n",
    "\n",
    "1. IMDb score method: This system used overall TMDB Vote Count and Vote Averages to build Top Movies Charts, in general and for a specific genre. The IMDB Weighted Rating System was used to calculate ratings on which the sorting was finally performed.\n",
    "2. Correlation matrix method: I used some linear algebra knowledge to calculate the correlation matrix of movie ratings, and make recommendation of movies according to how each movie is correlated to each other purely based on user ratings.\n",
    "3. Content based filtering method: I played with the content-based method which took metadata such as cast, crew, genre and keywords to come up with predictions. Also I tried to assign certain fields with higher weight for decision-making.\n",
    "4. Collaborative filtering method: I played with the Surprise Library to build a collaborative filter based on single value decomposition. The RMSE obtained was less than 1 and the engine gave estimated ratings for a given user and movie.\n",
    "5. Hybrid recommender: This method brought together ideas from content-based and collaborative filterting to give movie suggestions to a particular user based on the movies' \"meta soup\" and the estimated ratings that it had internally calculated for that user.\n",
    "\n",
    "I would like to mention some excellent refereces that I learned from:\n",
    "1. https://www.kaggle.com/saurav9786/recommender-system-using-amazon-reviews\n",
    "2. https://www.kaggle.com/rounakbanik/movie-recommender-systems\n",
    "3. https://www.kaggle.com/ibtesama/getting-started-with-a-movie-recommendation-system/?select=ratings.csv"
   ]
  }
 ],
 "metadata": {
  "kernelspec": {
   "display_name": "Python 3",
   "language": "python",
   "name": "python3"
  },
  "language_info": {
   "codemirror_mode": {
    "name": "ipython",
    "version": 3
   },
   "file_extension": ".py",
   "mimetype": "text/x-python",
   "name": "python",
   "nbconvert_exporter": "python",
   "pygments_lexer": "ipython3",
   "version": "3.7.6"
  },
  "papermill": {
   "duration": 105.618005,
   "end_time": "2020-08-15T23:15:03.451506",
   "environment_variables": {},
   "exception": null,
   "input_path": "__notebook__.ipynb",
   "output_path": "__notebook__.ipynb",
   "parameters": {},
   "start_time": "2020-08-15T23:13:17.833501",
   "version": "2.1.0"
  }
 },
 "nbformat": 4,
 "nbformat_minor": 4
}
